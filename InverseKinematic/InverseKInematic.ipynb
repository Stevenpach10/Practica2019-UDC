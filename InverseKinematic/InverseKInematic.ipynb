{
 "cells": [
  {
   "cell_type": "code",
   "execution_count": 30,
   "metadata": {},
   "outputs": [],
   "source": [
    "\n",
    "import ikpy\n",
    "import sys\n",
    "import numpy as np\n",
    "from ikpy import plot_utils\n",
    "from os.path import abspath\n",
    "from pypot.creatures import PoppyTorso\n",
    "import time\n",
    "from datetime import datetime\n",
    "from dateutil.relativedelta import relativedelta\n",
    "import matplotlib.pyplot as plt\n",
    "sys.path.append('./sketchModel')\n",
    "from sketch_pix2seq_sampling import getAbsoluteStrokes,drawAbsolutePosition"
   ]
  },
  {
   "cell_type": "code",
   "execution_count": 60,
   "metadata": {},
   "outputs": [
    {
     "name": "stdout",
     "output_type": "stream",
     "text": [
      "WARNING:tensorflow:From ./sketchModel/sketch_pix2seq_sampling.py:119: The name tf.gfile.Open is deprecated. Please use tf.io.gfile.GFile instead.\n",
      "\n",
      "model_params.max_seq_len 129.\n",
      "WARNING:tensorflow:From ./sketchModel/sketch_pix2seq_train.py:51: The name tf.get_default_session is deprecated. Please use tf.compat.v1.get_default_session instead.\n",
      "\n",
      "WARNING:tensorflow:From ./sketchModel/sketch_pix2seq_train.py:54: The name tf.reset_default_graph is deprecated. Please use tf.compat.v1.reset_default_graph instead.\n",
      "\n",
      "WARNING:tensorflow:From ./sketchModel/model.py:61: The name tf.variable_scope is deprecated. Please use tf.compat.v1.variable_scope instead.\n",
      "\n",
      "----------------------------------------------------------------------------------------------------\n",
      "is_training: True\n",
      "Model using gpu.\n",
      "Input dropout mode = False.\n",
      "Output dropout mode = False.\n",
      "Recurrent dropout mode = True.\n",
      "WARNING:tensorflow:From ./sketchModel/model.py:170: The name tf.placeholder is deprecated. Please use tf.compat.v1.placeholder instead.\n",
      "\n",
      "WARNING:tensorflow:From ./sketchModel/model.py:91: The name tf.get_variable is deprecated. Please use tf.compat.v1.get_variable instead.\n",
      "\n",
      "WARNING:tensorflow:From /home/steven/anaconda2/lib/python2.7/site-packages/tensorflow/python/ops/init_ops.py:1251: calling __init__ (from tensorflow.python.ops.init_ops) with dtype is deprecated and will be removed in a future version.\n",
      "Instructions for updating:\n",
      "Call initializer instance with the dtype argument instead of passing it to the constructor\n",
      "WARNING:tensorflow:From ./sketchModel/model.py:233: dynamic_rnn (from tensorflow.python.ops.rnn) is deprecated and will be removed in a future version.\n",
      "Instructions for updating:\n",
      "Please use `keras.layers.RNN(cell)`, which is equivalent to this API\n",
      "WARNING:tensorflow:From ./sketchModel/rnn.py:488: calling dropout (from tensorflow.python.ops.nn_ops) with keep_prob is deprecated and will be removed in a future version.\n",
      "Instructions for updating:\n",
      "Please use `rate` instead of `keep_prob`. Rate should be set to `rate = 1 - keep_prob`.\n",
      "WARNING:tensorflow:From ./sketchModel/model.py:236: The name tf.nn.xw_plus_b is deprecated. Please use tf.compat.v1.nn.xw_plus_b instead.\n",
      "\n",
      "WARNING:tensorflow:From ./sketchModel/model.py:246: div (from tensorflow.python.ops.math_ops) is deprecated and will be removed in a future version.\n",
      "Instructions for updating:\n",
      "Deprecated in favor of operator or tf.math.divide.\n",
      "WARNING:tensorflow:From ./sketchModel/model.py:265: calling reduce_sum_v1 (from tensorflow.python.ops.math_ops) with keep_dims is deprecated and will be removed in a future version.\n",
      "Instructions for updating:\n",
      "keep_dims is deprecated, use keepdims instead\n",
      "WARNING:tensorflow:From ./sketchModel/model.py:275: softmax_cross_entropy_with_logits (from tensorflow.python.ops.nn_ops) is deprecated and will be removed in a future version.\n",
      "Instructions for updating:\n",
      "\n",
      "Future major versions of TensorFlow will allow gradients to flow\n",
      "into the labels input on backprop by default.\n",
      "\n",
      "See `tf.nn.softmax_cross_entropy_with_logits_v2`.\n",
      "\n",
      "WARNING:tensorflow:From ./sketchModel/model.py:331: The name tf.train.AdamOptimizer is deprecated. Please use tf.compat.v1.train.AdamOptimizer instead.\n",
      "\n",
      "----------------------------------------------------------------------------------------------------\n",
      "is_training: 0\n",
      "Model using gpu.\n",
      "Input dropout mode = 0.\n",
      "Output dropout mode = 0.\n",
      "Recurrent dropout mode = 0.\n",
      "----------------------------------------------------------------------------------------------------\n",
      "is_training: 0\n",
      "Model using gpu.\n",
      "Input dropout mode = 0.\n",
      "Output dropout mode = 0.\n",
      "Recurrent dropout mode = 0.\n",
      "WARNING:tensorflow:From ./sketchModel/sketch_pix2seq_train.py:278: The name tf.train.Saver is deprecated. Please use tf.compat.v1.train.Saver instead.\n",
      "\n",
      "Loading model ./sketchModel/outputs/snapshot/vector-11100\n",
      "WARNING:tensorflow:From /home/steven/anaconda2/lib/python2.7/site-packages/tensorflow/python/training/saver.py:1276: checkpoint_exists (from tensorflow.python.training.checkpoint_management) is deprecated and will be removed in a future version.\n",
      "Instructions for updating:\n",
      "Use standard file APIs to check for files with this prefix.\n",
      "INFO:tensorflow:Restoring parameters from ./sketchModel/outputs/snapshot/vector-11100\n"
     ]
    }
   ],
   "source": [
    "strokes = getAbsoluteStrokes('','','./sketchModel/outputs/snapshot','./200.png')"
   ]
  },
  {
   "cell_type": "code",
   "execution_count": 31,
   "metadata": {},
   "outputs": [],
   "source": [
    "from pypot.vrep import remote_api,vrep_session_id\n",
    "remote_api.simxFinish(-1)\n",
    "scene_path = abspath('./vrep-sensors/torso_sensors_scene.ttt')\n",
    "config_path = abspath('./vrep-sensors/torso_vrep_sensors_config.json')\n",
    "#config_path = abspath('./config/torso_config_cam01.json')\n",
    "poppy = PoppyTorso(simulator='vrep', scene=scene_path, config=config_path)\n",
    "#poppy = PoppyTorso(config=config_path)"
   ]
  },
  {
   "cell_type": "code",
   "execution_count": null,
   "metadata": {},
   "outputs": [],
   "source": [
    "'''for motor in poppy.motors:\n",
    "    print(motor.name)\n",
    "    motor.compliant = True\n",
    "    motor.goto_position(0, 3)\n",
    "'''"
   ]
  },
  {
   "cell_type": "code",
   "execution_count": null,
   "metadata": {},
   "outputs": [],
   "source": [
    "#poppy.bust_y.compliant = True"
   ]
  },
  {
   "cell_type": "code",
   "execution_count": null,
   "metadata": {},
   "outputs": [],
   "source": [
    "#poppy.r_elbow_y.goto_position(10.9,0.5)\n",
    "#poppy.r_arm_z.goto_position(-45,0.5) #Angle, Time"
   ]
  },
  {
   "cell_type": "code",
   "execution_count": null,
   "metadata": {},
   "outputs": [],
   "source": [
    "drawAbsolutePosition(strokes,(0,48,0,48))"
   ]
  },
  {
   "cell_type": "code",
   "execution_count": null,
   "metadata": {},
   "outputs": [],
   "source": [
    "image_size = 0.15\n",
    "x_bound_min = -0.15\n",
    "y_bound_min = 0.10\n",
    "bound_max = 0.30\n",
    "\n",
    "def rescaleImage(strokes,init_size,end_size,xFactor, yFactor):\n",
    "    new_stroke = []\n",
    "    for stroke in strokes:\n",
    "        x = end_size/(init_size/stroke[0])\n",
    "        y = end_size/(init_size/stroke[1])\n",
    "        new_stroke.append([x,y,stroke[2]])\n",
    "    new_stroke = np.asarray(new_stroke)\n",
    "    \n",
    "    xMin = np.min(new_stroke[:,0])\n",
    "    xMax = np.max(new_stroke[:,0])\n",
    "\n",
    "    yMin = np.min(new_stroke[:,1])\n",
    "    yMax = np.max(new_stroke[:,1])\n",
    "    \n",
    "    \n",
    "    multiX = end_size/(xMax-xMin)\n",
    "    multiY = end_size/(yMax-yMin)\n",
    "    \n",
    "    new_stroke[:,0] = new_stroke[:,0] * np.floor(multiX)\n",
    "    new_stroke[:,1] = new_stroke[:,1] * np.floor(multiY)\n",
    "    new_stroke = moveImage(new_stroke,xFactor,yFactor)\n",
    "    return new_stroke\n",
    "\n",
    "def moveImage(stroke_rescale, xFactor, yFactor):\n",
    "    xMin = np.min(stroke_rescale[:,0])\n",
    "    yMin = np.min(stroke_rescale[:,1])\n",
    "\n",
    "    stroke_rescale[:,0] = (stroke_rescale[:,0] - (xMin * xFactor))\n",
    "    stroke_rescale[:,1] = stroke_rescale[:,1] - (yMin * yFactor)\n",
    "    return stroke_rescale\n",
    "\n",
    "stroke_rescale = rescaleImage(strokes, 48, image_size,1.10, 0.70)\n",
    "#print(stroke_rescale)\n",
    "xMin = np.min(stroke_rescale[:,0])\n",
    "xMax = np.max(stroke_rescale[:,0])\n",
    "\n",
    "yMin = np.min(stroke_rescale[:,1])\n",
    "yMax = np.max(stroke_rescale[:,1])\n",
    "    \n",
    "drawAbsolutePosition(stroke_rescale,(x_bound_min,x_bound_min+bound_max,y_bound_min, y_bound_min+bound_max))\n"
   ]
  },
  {
   "cell_type": "markdown",
   "metadata": {},
   "source": [
    "# Limite de angulos en VREP"
   ]
  },
  {
   "cell_type": "markdown",
   "metadata": {},
   "source": [
    "abs_z = -80, 80 <br>\n",
    "bust_y = -46, 23 <br>\n",
    "bust_x = -40 40 <br>\n",
    "l_shoulder_y = -180, 150 <br>\n",
    "l_shoulder_x = -105, 110 <br>\n",
    "l_arm_z = -70, 90 <br>\n",
    "l_elbow_y = -90, 90"
   ]
  },
  {
   "cell_type": "markdown",
   "metadata": {},
   "source": [
    "# Posición del efector final"
   ]
  },
  {
   "cell_type": "markdown",
   "metadata": {},
   "source": [
    "El calculo del efector final es computado a partir de las articulación de la cadena y la cinematica del robot\n",
    "Representa una posición teorica el cual difiere de la real por imperfecciones del modelo."
   ]
  },
  {
   "cell_type": "code",
   "execution_count": null,
   "metadata": {},
   "outputs": [],
   "source": [
    "def getEffector():\n",
    "    effector = poppy.l_arm_chain.end_effector\n",
    "    print(\"X : %.6f\" % effector[0] + \", Y : %.6f\" % effector[1] + \", Z : %.6f\" % effector[2])\n",
    "    return effector"
   ]
  },
  {
   "cell_type": "markdown",
   "metadata": {},
   "source": [
    "# Posición de los angulos"
   ]
  },
  {
   "cell_type": "markdown",
   "metadata": {},
   "source": [
    "Representa los valores de la articulación de la cadena expresado en angulos."
   ]
  },
  {
   "cell_type": "code",
   "execution_count": null,
   "metadata": {},
   "outputs": [],
   "source": [
    "def getDegrees():\n",
    "    nameMotors = [motor.name for motor in poppy.l_arm_chain.motors]\n",
    "    mapped = zip(nameMotors, poppy.l_arm_chain.joints_position)\n",
    "    for motorValue in mapped:\n",
    "        print(motorValue)"
   ]
  },
  {
   "cell_type": "code",
   "execution_count": null,
   "metadata": {},
   "outputs": [],
   "source": [
    "def calc_difference(point,effector):\n",
    "    result = [0,0,0]\n",
    "    result[0] = abs(point[0]-effector[0])\n",
    "    result[1] = abs(point[1]-effector[1])\n",
    "    result[2] = abs(point[2]-effector[2])\n",
    "    return result\n",
    "\n",
    "def mov_poppy_arm(chain, umbral, point):\n",
    "    iteration = 1\n",
    "    effector = chain.end_effector\n",
    "    diff = calc_difference(point, effector)\n",
    "    while((diff[0] >= umbral[0] or diff[1] >= umbral[1] or diff[2] >= umbral[2]) and iteration <= 50):\n",
    "        chain.goto((point[0], point[1], point[2]), 0.1, wait=True)\n",
    "        time.sleep(0.1)\n",
    "        effector = chain.end_effector\n",
    "        diff = calc_difference(point, effector)\n",
    "    else\n",
    "        print(\"ERROR\")\n",
    "    else\n",
    "        print(\"ERROR\")\n",
    "    else\n",
    "        print(\"ERROR\")\n",
    "        iteration += 1\n",
    "    return iteration\n",
    "\n",
    "def diff_time(t_a, t_b):\n",
    "    t_diff = relativedelta(t_b, t_a)  # later/end time comes first!\n",
    "    return '{h}h {m}m {s}s'.format(h=t_diff.hours, m=t_diff.minutes, s=t_diff.seconds)"
   ]
  },
  {
   "cell_type": "code",
   "execution_count": null,
   "metadata": {},
   "outputs": [],
   "source": [
    "x_umbral = 0.002\n",
    "y_umbral = 0.002\n",
    "z_umbral = 0.002\n",
    "\n",
    "umbral = (0.002, 0.002, 0.002)\n",
    "umbral_without = (0.1, 0.01, 0.1)"
   ]
  },
  {
   "cell_type": "markdown",
   "metadata": {},
   "source": [
    "# Dibujar gato"
   ]
  },
  {
   "cell_type": "code",
   "execution_count": 35,
   "metadata": {},
   "outputs": [
    {
     "name": "stdout",
     "output_type": "stream",
     "text": [
      "Populating the interactive namespace from numpy and matplotlib\n",
      "(512, 512, 3)\n",
      "FPS: 25\n",
      "Resolution: 512x512\n"
     ]
    },
    {
     "data": {
      "image/png": "[encoded data removed]",
      "text/plain": [
       "<Figure size 432x288 with 1 Axes>"
      ]
     },
     "metadata": {
      "needs_background": "light"
     },
     "output_type": "display_data"
    }
   ],
   "source": [
    "from pypot.sensor import OpenCVCamera\n",
    "def mov_head_get_image():\n",
    "    poppy.head_y.goto_position(-16,0.05)\n",
    "    poppy.head_z.goto_position(-88,0.05)\n",
    "    time.sleep(1)\n",
    "    getPicture()\n",
    "    time.sleep(1)\n",
    "    poppy.head_y.goto_position(0,0.05)\n",
    "    poppy.head_z.goto_position(0,0.05)\n",
    "mov_head_get_image()"
   ]
  },
  {
   "cell_type": "code",
   "execution_count": 33,
   "metadata": {},
   "outputs": [],
   "source": [
    "def getPicture():\n",
    "    #using a floating vision sensor (floating_camera)\n",
    "    %pylab inline \n",
    "    # Display the frame from floating_camera\n",
    "    axis('off')\n",
    "    imshow(poppy.Vision_sensor.frame[:,:,::-1])\n",
    "    print(poppy.Vision_sensor.frame.shape)\n",
    "    print \"FPS: \" + str(poppy.Vision_sensor.fps)\n",
    "    res_x, res_y = poppy.Vision_sensor.resolution\n",
    "    print \"Resolution: \" + str(res_x) + \"x\" + str(res_y)"
   ]
  },
  {
   "cell_type": "code",
   "execution_count": 32,
   "metadata": {},
   "outputs": [
    {
     "name": "stdout",
     "output_type": "stream",
     "text": [
      "/home/steven/Descargas/Proyecto 2019/Practica2019-UDC/InverseKinematic/200.png\n",
      "(0, [1], [], [], '')\n"
     ]
    }
   ],
   "source": [
    "from pypot.vrep import remote_api,vrep_session_id\n",
    "\n",
    "def draw_VREP_Point(points):\n",
    "    res = remote_api.simxCallScriptFunction(vrep_session_id, 'Canvas', \n",
    "                                                remote_api.sim_scripttype_childscript, 'draw_point', \n",
    "                                                [], points, [], bytearray(), remote_api.simx_opmode_blocking)\n",
    "def draw_VREP_Line(points):\n",
    "    res = remote_api.simxCallScriptFunction(vrep_session_id, 'Canvas', \n",
    "                                            remote_api.sim_scripttype_childscript, 'draw_line', \n",
    "                                            [], points, [], bytearray(), remote_api.simx_opmode_blocking)\n",
    "def add_texture_TV(path):\n",
    "    print(path)\n",
    "    res = remote_api.simxCallScriptFunction(vrep_session_id, 'Image', \n",
    "                                                remote_api.sim_scripttype_childscript, 'add_texture', \n",
    "                                                [], [], [], path, remote_api.simx_opmode_blocking)\n",
    "    print(res)\n",
    "add_texture_TV(\"/home/steven/Descargas/Proyecto 2019/Practica2019-UDC/InverseKinematic/200.png\")"
   ]
  },
  {
   "cell_type": "code",
   "execution_count": 72,
   "metadata": {
    "scrolled": true
   },
   "outputs": [],
   "source": [
    "def drawWithPoppyPoint(planeY, withoutDraw, strokes):\n",
    "    axisY = planeY\n",
    "    stroke_i = 0\n",
    "    umbralR = (0, 0, 0)\n",
    "    size = len(strokes)\n",
    "    position_draw_log = []\n",
    "    position_without_draw_log = []\n",
    "    position_total = []\n",
    "    auxhandle = remote_api.simxGetObjectHandle(vrep_session_id, 'l_ball', remote_api.simx_opmode_blocking)\n",
    "    position = remote_api.simxGetObjectPosition(vrep_session_id, auxhandle[1], -1, remote_api.simx_opmode_streaming)\n",
    "    start = datetime.now()\n",
    "    for stroke in strokes:\n",
    "        if stroke[2] == 0:\n",
    "            axisY = planeY\n",
    "            umbralR = umbral\n",
    "        else:\n",
    "            axisY = withoutDraw\n",
    "            umbralR = umbral_without\n",
    "        i = mov_poppy_arm(poppy.l_arm_chain, umbralR, (stroke[0], axisY, stroke[1]))\n",
    "        stroke_i += 1\n",
    "        position = remote_api.simxGetObjectPosition(vrep_session_id, auxhandle[1], -1, remote_api.simx_opmode_buffer)\n",
    "        if(axisY == planeY):\n",
    "            position_draw_log.append(position[1])\n",
    "            draw_VREP_Point([position[1][0],position[1][1]-0.04,position[1][2]])\n",
    "        else:\n",
    "            position_without_draw_log.append(position[1])\n",
    "        position_total.append(position[1])\n",
    "        print(\"Move %.d\" % stroke_i + \" from %.d\" % size + \" iterations to converge : %.d\" % i)\n",
    "    end = datetime.now()\n",
    "    print(\"-----------------------------------------------\")\n",
    "    print(diff_time(start, end))\n",
    "    mov_poppy_arm(poppy.l_arm_chain, umbral, (stroke[0], withoutDraw, stroke[1]))\n",
    "    return position_total, position_draw_log, position_without_draw_log      \n",
    "#position_total, position_draw_log, position_without_draw_log  = drawWithPoppy(-0.24, -0.13, stroke_rescale)"
   ]
  },
  {
   "cell_type": "code",
   "execution_count": null,
   "metadata": {},
   "outputs": [],
   "source": [
    "\n",
    "from collections import deque\n",
    "def draw_line(queue):\n",
    "    if(len(queue) != 2):\n",
    "        return queue\n",
    "    initial_point = queue.popleft()\n",
    "    final_point = queue.popleft()\n",
    "    line = np.asarray([initial_point,final_point]).flatten()\n",
    "    draw_VREP_Line(line)\n",
    "    return queue"
   ]
  },
  {
   "cell_type": "code",
   "execution_count": null,
   "metadata": {},
   "outputs": [],
   "source": [
    "print(\"Drawing Line\")\n",
    "def drawWithPoppyLine(planeY, withoutDraw, strokes):\n",
    "    axisY = planeY\n",
    "    stroke_i = 0\n",
    "    line = deque()\n",
    "    umbralR = (0, 0, 0)\n",
    "    size = len(strokes)\n",
    "    position_draw_log = []\n",
    "    position_without_draw_log = []\n",
    "    position_total = []\n",
    "    auxhandle = vrep.simxGetObjectHandle(clientID, 'l_ball', vrep.simx_opmode_blocking)\n",
    "    position = vrep.simxGetObjectPosition(clientID, auxhandle[1], -1, vrep.simx_opmode_streaming)\n",
    "    start = datetime.now()\n",
    "    for stroke in strokes:\n",
    "        if stroke[2] == 0:\n",
    "            axisY = planeY\n",
    "            umbralR = umbral\n",
    "        else:\n",
    "            axisY = withoutDraw\n",
    "            umbralR = umbral_without\n",
    "        \n",
    "        i = mov_poppy_arm(poppy.l_arm_chain, umbralR, (stroke[0], axisY, stroke[1]))\n",
    "        stroke_i += 1\n",
    "        position = vrep.simxGetObjectPosition(clientID, auxhandle[1], -1, vrep.simx_opmode_buffer)\n",
    "        if(axisY == planeY):\n",
    "            position_draw_log.append(position[1])\n",
    "            line.append([position[1][0],position[1][1]-0.04,position[1][2]])\n",
    "            if (len(line) == 2):\n",
    "                draw_line(line)\n",
    "                line.append([position[1][0],position[1][1]-0.04,position[1][2]])\n",
    "        else:\n",
    "            if(len(line) == 1):\n",
    "                line.popleft()\n",
    "            position_without_draw_log.append(position[1])\n",
    "        position_total.append(position[1])\n",
    "        print(\"Move %.d\" % stroke_i + \" from %.d\" % size + \" iterations to converge : %.d\" % i)\n",
    "    end = datetime.now()\n",
    "    print(\"-----------------------------------------------\")\n",
    "    print(diff_time(start, end))\n",
    "    mov_poppy_arm(poppy.l_arm_chain, umbral, (0.01, -0.15, 0.10))\n",
    "    return position_total, position_draw_log, position_without_draw_log      \n",
    "#position_total, position_draw_log, position_without_draw_log  = drawWithPoppyLine(-0.24, -0.13, stroke_rescale)\n",
    "#vrep.simxFinish(clientID)"
   ]
  },
  {
   "cell_type": "code",
   "execution_count": null,
   "metadata": {},
   "outputs": [],
   "source": [
    "\n",
    "position_draw_log = np.asarray(position_draw_log)\n",
    "position_without_draw_log = np.asarray(position_without_draw_log)\n",
    "position_total = np.asarray(position_total)\n",
    "y_draw = position_draw_log[:,1]\n",
    "print(\"VALUES FOR PENCIL DRAWING\")\n",
    "print(\"Low value : %.6f \" % np.min(y_draw))\n",
    "print(\"Mean draw: %.6f \" % np.mean(y_draw))\n",
    "print(\"Median draw: %.6f \" % np.median(y_draw))\n",
    "print(\"High value : %.6f \" % np.max(y_draw))\n",
    "print(\"Space of canvas  : %.6f \" % (np.min(y_draw)-np.max(y_draw)))\n",
    "\n",
    "print(\"----------------------------------------------------------\")\n",
    "print(\"VALUES FOR PENCIL WITHOUT DRAW\")\n",
    "\n",
    "y_without_draw = position_without_draw_log[:,1]\n",
    "print(\"Low value : %.6f \" % np.min(y_without_draw))\n",
    "print(\"Mean without draw: %.6f \" % np.mean(y_without_draw))\n",
    "print(\"Median draw: %.6f \" % np.median(y_without_draw))\n",
    "print(\"High value : %.6f \" % np.max(y_without_draw))\n",
    "print(\"Space of canvas  : %.6f \" % (np.min(y_without_draw)-np.max(y_without_draw)))\n",
    "\n"
   ]
  },
  {
   "cell_type": "code",
   "execution_count": null,
   "metadata": {},
   "outputs": [],
   "source": [
    "mov_poppy_arm(poppy.l_arm_chain, umbral, (0 0, 0))"
   ]
  },
  {
   "cell_type": "code",
   "execution_count": null,
   "metadata": {},
   "outputs": [],
   "source": [
    "\n",
    "print(\"Pencil up %.d\" % np.sum(stroke_rescale[:,2]))\n",
    "def plotAllData(output,save=False,name=\"Image\"):\n",
    "  plt.plot(np.arange(0,len(output),1),output[:,0],'go-',label='Axis X',c='r')\n",
    "  plt.legend()\n",
    "  plt.xlabel('Time')\n",
    "  plt.ylabel('Output of axis X')\n",
    "  if save:\n",
    "    plt.savefig(name + \"_Axis_X\")\n",
    "  plt.show()\n",
    "\n",
    "  plt.plot(np.arange(0,len(output),1),output[:,1],'go-',label='Axis Y',c='b')\n",
    "  plt.legend()\n",
    "  plt.xlabel('Time')\n",
    "  plt.ylabel('Output of axis Y')\n",
    "  if save:\n",
    "    plt.savefig(name + \"_Axis_Y\")\n",
    "  plt.show()\n",
    "\n",
    "  plt.plot(np.arange(0,len(output),1),output[:,2],'go-',label='Axis Z',c='c')\n",
    "  plt.legend()\n",
    "  plt.xlabel('Time')\n",
    "  plt.ylabel('Output of axis Z')\n",
    "  if save:\n",
    "    plt.savefig(name + \"_Axis_Z\")\n",
    "  plt.show()\n"
   ]
  },
  {
   "cell_type": "code",
   "execution_count": null,
   "metadata": {},
   "outputs": [],
   "source": []
  },
  {
   "cell_type": "code",
   "execution_count": null,
   "metadata": {},
   "outputs": [],
   "source": []
  }
 ],
 "metadata": {
  "kernelspec": {
   "display_name": "Python 2",
   "language": "python",
   "name": "python2"
  },
  "language_info": {
   "codemirror_mode": {
    "name": "ipython",
    "version": 2
   },
   "file_extension": ".py",
   "mimetype": "text/x-python",
   "name": "python",
   "nbconvert_exporter": "python",
   "pygments_lexer": "ipython2",
   "version": "2.7.16"
  }
 },
 "nbformat": 4,
 "nbformat_minor": 2
}
