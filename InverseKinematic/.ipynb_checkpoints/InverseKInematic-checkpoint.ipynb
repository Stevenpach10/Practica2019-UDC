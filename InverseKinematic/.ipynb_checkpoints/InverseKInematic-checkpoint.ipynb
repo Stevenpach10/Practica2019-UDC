{
 "cells": [
  {
   "cell_type": "code",
   "execution_count": 6,
   "metadata": {},
   "outputs": [],
   "source": [
    "\n",
    "import ikpy\n",
    "import sys\n",
    "import numpy as np\n",
    "from ikpy import plot_utils\n",
    "from os.path import abspath\n",
    "from pypot.creatures import PoppyTorso\n",
    "import time\n",
    "from datetime import datetime\n",
    "from dateutil.relativedelta import relativedelta\n",
    "import matplotlib.pyplot as plt\n",
    "sys.path.append('./sketchModel')\n",
    "from sketch_pix2seq_sampling import getAbsoluteStrokes,drawAbsolutePosition"
   ]
  },
  {
   "cell_type": "code",
   "execution_count": 2,
   "metadata": {},
   "outputs": [],
   "source": [
    "a = np.ones((48,48))"
   ]
  },
  {
   "cell_type": "code",
   "execution_count": 5,
   "metadata": {},
   "outputs": [
    {
     "data": {
      "text/plain": [
       "(1, 48, 48, 1)"
      ]
     },
     "execution_count": 5,
     "metadata": {},
     "output_type": "execute_result"
    }
   ],
   "source": []
  },
  {
   "cell_type": "code",
   "execution_count": null,
   "metadata": {},
   "outputs": [],
   "source": [
    "strokes = getAbsoluteStrokes('','','./sketchModel/outputs/snapshot','./200.png')"
   ]
  },
  {
   "cell_type": "code",
   "execution_count": 2,
   "metadata": {},
   "outputs": [],
   "source": [
    "from pypot.vrep import remote_api,vrep_session_id\n",
    "remote_api.simxFinish(-1)\n",
    "scene_path = abspath('./vrep-sensors/torso_sensors_scene.ttt')\n",
    "config_path = abspath('./vrep-sensors/torso_vrep_sensors_config.json')\n",
    "#config_path = abspath('./config/torso_config_cam01.json')\n",
    "poppy = PoppyTorso(simulator='vrep', scene=scene_path, config=config_path)\n",
    "#poppy = PoppyTorso(config=config_path)"
   ]
  },
  {
   "cell_type": "code",
   "execution_count": null,
   "metadata": {},
   "outputs": [],
   "source": [
    "'''for motor in poppy.motors:\n",
    "    print(motor.name)\n",
    "    motor.compliant = True\n",
    "    motor.goto_position(0, 3)\n",
    "'''"
   ]
  },
  {
   "cell_type": "code",
   "execution_count": null,
   "metadata": {},
   "outputs": [],
   "source": [
    "#poppy.bust_y.compliant = True"
   ]
  },
  {
   "cell_type": "code",
   "execution_count": null,
   "metadata": {},
   "outputs": [],
   "source": [
    "#poppy.r_elbow_y.goto_position(10.9,0.5)\n",
    "#poppy.r_arm_z.goto_position(-45,0.5) #Angle, Time"
   ]
  },
  {
   "cell_type": "code",
   "execution_count": null,
   "metadata": {},
   "outputs": [],
   "source": [
    "drawAbsolutePosition(strokes,(0,48,0,48))"
   ]
  },
  {
   "cell_type": "code",
   "execution_count": null,
   "metadata": {},
   "outputs": [],
   "source": [
    "image_size = 0.15\n",
    "x_bound_min = -0.15\n",
    "y_bound_min = 0.10\n",
    "bound_max = 0.30\n",
    "\n",
    "def rescaleImage(strokes,init_size,end_size,xFactor, yFactor):\n",
    "    new_stroke = []\n",
    "    for stroke in strokes:\n",
    "        x = end_size/(init_size/stroke[0])\n",
    "        y = end_size/(init_size/stroke[1])\n",
    "        new_stroke.append([x,y,stroke[2]])\n",
    "    new_stroke = np.asarray(new_stroke)\n",
    "    \n",
    "    xMin = np.min(new_stroke[:,0])\n",
    "    xMax = np.max(new_stroke[:,0])\n",
    "\n",
    "    yMin = np.min(new_stroke[:,1])\n",
    "    yMax = np.max(new_stroke[:,1])\n",
    "    \n",
    "    \n",
    "    multiX = end_size/(xMax-xMin)\n",
    "    multiY = end_size/(yMax-yMin)\n",
    "    \n",
    "    new_stroke[:,0] = new_stroke[:,0] * np.floor(multiX)\n",
    "    new_stroke[:,1] = new_stroke[:,1] * np.floor(multiY)\n",
    "    new_stroke = moveImage(new_stroke,xFactor,yFactor)\n",
    "    return new_stroke\n",
    "\n",
    "def moveImage(stroke_rescale, xFactor, yFactor):\n",
    "    xMin = np.min(stroke_rescale[:,0])\n",
    "    yMin = np.min(stroke_rescale[:,1])\n",
    "\n",
    "    stroke_rescale[:,0] = (stroke_rescale[:,0] - (xMin * xFactor))\n",
    "    stroke_rescale[:,1] = stroke_rescale[:,1] - (yMin * yFactor)\n",
    "    return stroke_rescale\n",
    "\n",
    "stroke_rescale = rescaleImage(strokes, 48, image_size,1.10, 0.70)\n",
    "#print(stroke_rescale)\n",
    "xMin = np.min(stroke_rescale[:,0])\n",
    "xMax = np.max(stroke_rescale[:,0])\n",
    "\n",
    "yMin = np.min(stroke_rescale[:,1])\n",
    "yMax = np.max(stroke_rescale[:,1])\n",
    "    \n",
    "drawAbsolutePosition(stroke_rescale,(x_bound_min,x_bound_min+bound_max,y_bound_min, y_bound_min+bound_max))\n"
   ]
  },
  {
   "cell_type": "markdown",
   "metadata": {},
   "source": [
    "# Limite de angulos en VREP"
   ]
  },
  {
   "cell_type": "markdown",
   "metadata": {},
   "source": [
    "abs_z = -80, 80 <br>\n",
    "bust_y = -46, 23 <br>\n",
    "bust_x = -40 40 <br>\n",
    "l_shoulder_y = -180, 150 <br>\n",
    "l_shoulder_x = -105, 110 <br>\n",
    "l_arm_z = -70, 90 <br>\n",
    "l_elbow_y = -90, 90"
   ]
  },
  {
   "cell_type": "markdown",
   "metadata": {},
   "source": [
    "# Posición del efector final"
   ]
  },
  {
   "cell_type": "markdown",
   "metadata": {},
   "source": [
    "El calculo del efector final es computado a partir de las articulación de la cadena y la cinematica del robot\n",
    "Representa una posición teorica el cual difiere de la real por imperfecciones del modelo."
   ]
  },
  {
   "cell_type": "code",
   "execution_count": null,
   "metadata": {},
   "outputs": [],
   "source": [
    "def getEffector():\n",
    "    effector = poppy.l_arm_chain.end_effector\n",
    "    print(\"X : %.6f\" % effector[0] + \", Y : %.6f\" % effector[1] + \", Z : %.6f\" % effector[2])\n",
    "    return effector"
   ]
  },
  {
   "cell_type": "markdown",
   "metadata": {},
   "source": [
    "# Posición de los angulos"
   ]
  },
  {
   "cell_type": "markdown",
   "metadata": {},
   "source": [
    "Representa los valores de la articulación de la cadena expresado en angulos."
   ]
  },
  {
   "cell_type": "code",
   "execution_count": null,
   "metadata": {},
   "outputs": [],
   "source": [
    "def getDegrees():\n",
    "    nameMotors = [motor.name for motor in poppy.l_arm_chain.motors]\n",
    "    mapped = zip(nameMotors, poppy.l_arm_chain.joints_position)\n",
    "    for motorValue in mapped:\n",
    "        print(motorValue)"
   ]
  },
  {
   "cell_type": "code",
   "execution_count": null,
   "metadata": {},
   "outputs": [],
   "source": [
    "def calc_difference(point,effector):\n",
    "    result = [0,0,0]\n",
    "    result[0] = abs(point[0]-effector[0])\n",
    "    result[1] = abs(point[1]-effector[1])\n",
    "    result[2] = abs(point[2]-effector[2])\n",
    "    return result\n",
    "\n",
    "def mov_poppy_arm(chain, umbral, point):\n",
    "    iteration = 1\n",
    "    effector = chain.end_effector\n",
    "    diff = calc_difference(point, effector)\n",
    "    while((diff[0] >= umbral[0] or diff[1] >= umbral[1] or diff[2] >= umbral[2]) and iteration <= 50):\n",
    "        chain.goto((point[0], point[1], point[2]), 0.1, wait=True)\n",
    "        time.sleep(0.1)\n",
    "        effector = chain.end_effector\n",
    "        diff = calc_difference(point, effector)\n",
    "    else\n",
    "        print(\"ERROR\")\n",
    "    else\n",
    "        print(\"ERROR\")\n",
    "    else\n",
    "        print(\"ERROR\")\n",
    "        iteration += 1\n",
    "    return iteration\n",
    "\n",
    "def diff_time(t_a, t_b):\n",
    "    t_diff = relativedelta(t_b, t_a)  # later/end time comes first!\n",
    "    return '{h}h {m}m {s}s'.format(h=t_diff.hours, m=t_diff.minutes, s=t_diff.seconds)"
   ]
  },
  {
   "cell_type": "code",
   "execution_count": null,
   "metadata": {},
   "outputs": [],
   "source": [
    "x_umbral = 0.002\n",
    "y_umbral = 0.002\n",
    "z_umbral = 0.002\n",
    "\n",
    "umbral = (0.002, 0.002, 0.002)\n",
    "umbral_without = (0.1, 0.01, 0.1)"
   ]
  },
  {
   "cell_type": "code",
   "execution_count": null,
   "metadata": {},
   "outputs": [],
   "source": []
  },
  {
   "cell_type": "markdown",
   "metadata": {},
   "source": [
    "# Dibujar gato"
   ]
  },
  {
   "cell_type": "code",
   "execution_count": 66,
   "metadata": {},
   "outputs": [],
   "source": [
    "from skimage import data, color\n",
    "from skimage.transform import rescale, resize, downscale_local_mean\n",
    "\n",
    "def getPicture():\n",
    "    return poppy.Vision_sensor.frame"
   ]
  },
  {
   "cell_type": "code",
   "execution_count": 23,
   "metadata": {},
   "outputs": [
    {
     "data": {
      "text/plain": [
       "<matplotlib.image.AxesImage at 0x7f6a3575ca50>"
      ]
     },
     "execution_count": 23,
     "metadata": {},
     "output_type": "execute_result"
    },
    {
     "data": {
      "image/png": "[encoded data removed]",
      "text/plain": [
       "<Figure size 432x288 with 1 Axes>"
      ]
     },
     "metadata": {
      "needs_background": "light"
     },
     "output_type": "display_data"
    }
   ],
   "source": [
    "from pypot.sensor import OpenCVCamera\n",
    "def mov_head_get_image():\n",
    "    poppy.head_y.goto_position(-16,0.05)\n",
    "    poppy.head_z.goto_position(-88,0.05)\n",
    "    time.sleep(1)\n",
    "    image = getPicture()\n",
    "    time.sleep(1)\n",
    "    poppy.head_y.goto_position(0,0.05)\n",
    "    poppy.head_z.goto_position(0,0.05)\n",
    "    \n",
    "    return image\n",
    "image = mov_head_get_image()\n",
    "image_rescaled = rescaleImagePNG(image)\n",
    "plt.imshow(image_rescaled)"
   ]
  },
  {
   "cell_type": "code",
   "execution_count": 71,
   "metadata": {},
   "outputs": [],
   "source": [
    "def rescaleImagePNG(image):\n",
    "    image_rescaled = rescale(image, 0.25, anti_aliasing=False)\n",
    "    return image_rescaled"
   ]
  },
  {
   "cell_type": "code",
   "execution_count": 79,
   "metadata": {},
   "outputs": [
    {
     "name": "stdout",
     "output_type": "stream",
     "text": [
      "(48, 48)\n"
     ]
    },
    {
     "data": {
      "text/plain": [
       "<matplotlib.image.AxesImage at 0x7f6a35bb4e10>"
      ]
     },
     "execution_count": 79,
     "metadata": {},
     "output_type": "execute_result"
    },
    {
     "data": {
      "image/png": "[encoded data removed]",
      "text/plain": [
       "<Figure size 432x288 with 1 Axes>"
      ]
     },
     "metadata": {
      "needs_background": "light"
     },
     "output_type": "display_data"
    }
   ],
   "source": [
    "import cv2\n",
    "#print(image)\n",
    "gray = cv2.resize(image,(48,48), interpolation = cv2.INTER_AREA)\n",
    "gray = cv2.cvtColor(gray, cv2.COLOR_BGR2GRAY)\n",
    "print(gray.shape)\n",
    "plt.imshow(gray,cmap='gray', vmin=0, vmax=255)"
   ]
  },
  {
   "cell_type": "code",
   "execution_count": 12,
   "metadata": {},
   "outputs": [
    {
     "name": "stdout",
     "output_type": "stream",
     "text": [
      "/home/steven/Descargas/Proyecto 2019/Practica2019-UDC/InverseKinematic/200.png\n"
     ]
    },
    {
     "ename": "NameError",
     "evalue": "global name 'vrep' is not defined",
     "output_type": "error",
     "traceback": [
      "\u001b[0;31m---------------------------------------------------------------------------\u001b[0m",
      "\u001b[0;31mNameError\u001b[0m                                 Traceback (most recent call last)",
      "\u001b[0;32m<ipython-input-12-df86090154db>\u001b[0m in \u001b[0;36m<module>\u001b[0;34m()\u001b[0m\n\u001b[1;32m     15\u001b[0m                                                 [], [], [], path, vrep.simx_opmode_blocking)\n\u001b[1;32m     16\u001b[0m     \u001b[0;32mprint\u001b[0m\u001b[0;34m(\u001b[0m\u001b[0mres\u001b[0m\u001b[0;34m)\u001b[0m\u001b[0;34m\u001b[0m\u001b[0m\n\u001b[0;32m---> 17\u001b[0;31m \u001b[0madd_texture_TV\u001b[0m\u001b[0;34m(\u001b[0m\u001b[0;34m'/home/steven/Descargas/Proyecto 2019/Practica2019-UDC/InverseKinematic/200.png'\u001b[0m\u001b[0;34m)\u001b[0m\u001b[0;34m\u001b[0m\u001b[0m\n\u001b[0m",
      "\u001b[0;32m<ipython-input-12-df86090154db>\u001b[0m in \u001b[0;36madd_texture_TV\u001b[0;34m(path)\u001b[0m\n\u001b[1;32m     13\u001b[0m     res = remote_api.simxCallScriptFunction(vrep_session_id, 'Image', \n\u001b[1;32m     14\u001b[0m                                                 \u001b[0mremote_api\u001b[0m\u001b[0;34m.\u001b[0m\u001b[0msim_scripttype_childscript\u001b[0m\u001b[0;34m,\u001b[0m \u001b[0;34m'add_texture'\u001b[0m\u001b[0;34m,\u001b[0m\u001b[0;34m\u001b[0m\u001b[0m\n\u001b[0;32m---> 15\u001b[0;31m                                                 [], [], [], path, vrep.simx_opmode_blocking)\n\u001b[0m\u001b[1;32m     16\u001b[0m     \u001b[0;32mprint\u001b[0m\u001b[0;34m(\u001b[0m\u001b[0mres\u001b[0m\u001b[0;34m)\u001b[0m\u001b[0;34m\u001b[0m\u001b[0m\n\u001b[1;32m     17\u001b[0m \u001b[0madd_texture_TV\u001b[0m\u001b[0;34m(\u001b[0m\u001b[0;34m'/home/steven/Descargas/Proyecto 2019/Practica2019-UDC/InverseKinematic/200.png'\u001b[0m\u001b[0;34m)\u001b[0m\u001b[0;34m\u001b[0m\u001b[0m\n",
      "\u001b[0;31mNameError\u001b[0m: global name 'vrep' is not defined"
     ]
    }
   ],
   "source": [
    "from pypot.vrep import remote_api,vrep_session_id\n",
    "\n",
    "def draw_VREP_Point(points):\n",
    "    res = remote_api.simxCallScriptFunction(vrep_session_id, 'Canvas', \n",
    "                                                remote_api.sim_scripttype_childscript, 'draw_point', \n",
    "                                                [], points, [], bytearray(), remote_api.simx_opmode_blocking)\n",
    "def draw_VREP_Line(points):\n",
    "    res = remote_api.simxCallScriptFunction(vrep_session_id, 'Canvas', \n",
    "                                            remote_api.sim_scripttype_childscript, 'draw_line', \n",
    "                                            [], points, [], bytearray(), remote_api.simx_opmode_blocking)\n",
    "def add_texture_TV(path):\n",
    "    print(path)\n",
    "    res = remote_api.simxCallScriptFunction(vrep_session_id, 'Image', \n",
    "                                                remote_api.sim_scripttype_childscript, 'add_texture', \n",
    "                                                [], [], [], path, remote_api.simx_opmode_blocking)\n",
    "    print(res)\n",
    "add_texture_TV('/home/steven/Descargas/Proyecto 2019/Practica2019-UDC/InverseKinematic/200.png')"
   ]
  },
  {
   "cell_type": "code",
   "execution_count": null,
   "metadata": {
    "scrolled": true
   },
   "outputs": [],
   "source": [
    "def drawWithPoppyPoint(planeY, withoutDraw, strokes):\n",
    "    axisY = planeY\n",
    "    stroke_i = 0\n",
    "    umbralR = (0, 0, 0)\n",
    "    size = len(strokes)\n",
    "    position_draw_log = []\n",
    "    position_without_draw_log = []\n",
    "    position_total = []\n",
    "    auxhandle = remote_api.simxGetObjectHandle(vrep_session_id, 'l_ball', remote_api.simx_opmode_blocking)\n",
    "    position = remote_api.simxGetObjectPosition(vrep_session_id, auxhandle[1], -1, remote_api.simx_opmode_streaming)\n",
    "    start = datetime.now()\n",
    "    for stroke in strokes:\n",
    "        if stroke[2] == 0:\n",
    "            axisY = planeY\n",
    "            umbralR = umbral\n",
    "        else:\n",
    "            axisY = withoutDraw\n",
    "            umbralR = umbral_without\n",
    "        i = mov_poppy_arm(poppy.l_arm_chain, umbralR, (stroke[0], axisY, stroke[1]))\n",
    "        stroke_i += 1\n",
    "        position = remote_api.simxGetObjectPosition(vrep_session_id, auxhandle[1], -1, remote_api.simx_opmode_buffer)\n",
    "        if(axisY == planeY):\n",
    "            position_draw_log.append(position[1])\n",
    "            draw_VREP_Point([position[1][0],position[1][1]-0.04,position[1][2]])\n",
    "        else:\n",
    "            position_without_draw_log.append(position[1])\n",
    "        position_total.append(position[1])\n",
    "        print(\"Move %.d\" % stroke_i + \" from %.d\" % size + \" iterations to converge : %.d\" % i)\n",
    "    end = datetime.now()\n",
    "    print(\"-----------------------------------------------\")\n",
    "    print(diff_time(start, end))\n",
    "    mov_poppy_arm(poppy.l_arm_chain, umbral, (stroke[0], withoutDraw, stroke[1]))\n",
    "    return position_total, position_draw_log, position_without_draw_log      \n",
    "#position_total, position_draw_log, position_without_draw_log  = drawWithPoppy(-0.24, -0.13, stroke_rescale)"
   ]
  },
  {
   "cell_type": "code",
   "execution_count": null,
   "metadata": {},
   "outputs": [],
   "source": [
    "\n",
    "from collections import deque\n",
    "def draw_line(queue):\n",
    "    if(len(queue) != 2):\n",
    "        return queue\n",
    "    initial_point = queue.popleft()\n",
    "    final_point = queue.popleft()\n",
    "    line = np.asarray([initial_point,final_point]).flatten()\n",
    "    draw_VREP_Line(line)\n",
    "    return queue"
   ]
  },
  {
   "cell_type": "code",
   "execution_count": null,
   "metadata": {},
   "outputs": [],
   "source": [
    "print(\"Drawing Line\")\n",
    "def drawWithPoppyLine(planeY, withoutDraw, strokes):\n",
    "    axisY = planeY\n",
    "    stroke_i = 0\n",
    "    line = deque()\n",
    "    umbralR = (0, 0, 0)\n",
    "    size = len(strokes)\n",
    "    position_draw_log = []\n",
    "    position_without_draw_log = []\n",
    "    position_total = []\n",
    "    auxhandle = vrep.simxGetObjectHandle(clientID, 'l_ball', vrep.simx_opmode_blocking)\n",
    "    position = vrep.simxGetObjectPosition(clientID, auxhandle[1], -1, vrep.simx_opmode_streaming)\n",
    "    start = datetime.now()\n",
    "    for stroke in strokes:\n",
    "        if stroke[2] == 0:\n",
    "            axisY = planeY\n",
    "            umbralR = umbral\n",
    "        else:\n",
    "            axisY = withoutDraw\n",
    "            umbralR = umbral_without\n",
    "        \n",
    "        i = mov_poppy_arm(poppy.l_arm_chain, umbralR, (stroke[0], axisY, stroke[1]))\n",
    "        stroke_i += 1\n",
    "        position = vrep.simxGetObjectPosition(clientID, auxhandle[1], -1, vrep.simx_opmode_buffer)\n",
    "        if(axisY == planeY):\n",
    "            position_draw_log.append(position[1])\n",
    "            line.append([position[1][0],position[1][1]-0.04,position[1][2]])\n",
    "            if (len(line) == 2):\n",
    "                draw_line(line)\n",
    "                line.append([position[1][0],position[1][1]-0.04,position[1][2]])\n",
    "        else:\n",
    "            if(len(line) == 1):\n",
    "                line.popleft()\n",
    "            position_without_draw_log.append(position[1])\n",
    "        position_total.append(position[1])\n",
    "        print(\"Move %.d\" % stroke_i + \" from %.d\" % size + \" iterations to converge : %.d\" % i)\n",
    "    end = datetime.now()\n",
    "    print(\"-----------------------------------------------\")\n",
    "    print(diff_time(start, end))\n",
    "    mov_poppy_arm(poppy.l_arm_chain, umbral, (0.01, -0.15, 0.10))\n",
    "    return position_total, position_draw_log, position_without_draw_log      \n",
    "#position_total, position_draw_log, position_without_draw_log  = drawWithPoppyLine(-0.24, -0.13, stroke_rescale)\n",
    "#vrep.simxFinish(clientID)"
   ]
  },
  {
   "cell_type": "code",
   "execution_count": null,
   "metadata": {},
   "outputs": [],
   "source": [
    "\n",
    "position_draw_log = np.asarray(position_draw_log)\n",
    "position_without_draw_log = np.asarray(position_without_draw_log)\n",
    "position_total = np.asarray(position_total)\n",
    "y_draw = position_draw_log[:,1]\n",
    "print(\"VALUES FOR PENCIL DRAWING\")\n",
    "print(\"Low value : %.6f \" % np.min(y_draw))\n",
    "print(\"Mean draw: %.6f \" % np.mean(y_draw))\n",
    "print(\"Median draw: %.6f \" % np.median(y_draw))\n",
    "print(\"High value : %.6f \" % np.max(y_draw))\n",
    "print(\"Space of canvas  : %.6f \" % (np.min(y_draw)-np.max(y_draw)))\n",
    "\n",
    "print(\"----------------------------------------------------------\")\n",
    "print(\"VALUES FOR PENCIL WITHOUT DRAW\")\n",
    "\n",
    "y_without_draw = position_without_draw_log[:,1]\n",
    "print(\"Low value : %.6f \" % np.min(y_without_draw))\n",
    "print(\"Mean without draw: %.6f \" % np.mean(y_without_draw))\n",
    "print(\"Median draw: %.6f \" % np.median(y_without_draw))\n",
    "print(\"High value : %.6f \" % np.max(y_without_draw))\n",
    "print(\"Space of canvas  : %.6f \" % (np.min(y_without_draw)-np.max(y_without_draw)))\n",
    "\n"
   ]
  },
  {
   "cell_type": "code",
   "execution_count": null,
   "metadata": {},
   "outputs": [],
   "source": [
    "mov_poppy_arm(poppy.l_arm_chain, umbral, (0 0, 0))"
   ]
  },
  {
   "cell_type": "code",
   "execution_count": null,
   "metadata": {},
   "outputs": [],
   "source": [
    "\n",
    "print(\"Pencil up %.d\" % np.sum(stroke_rescale[:,2]))\n",
    "def plotAllData(output,save=False,name=\"Image\"):\n",
    "  plt.plot(np.arange(0,len(output),1),output[:,0],'go-',label='Axis X',c='r')\n",
    "  plt.legend()\n",
    "  plt.xlabel('Time')\n",
    "  plt.ylabel('Output of axis X')\n",
    "  if save:\n",
    "    plt.savefig(name + \"_Axis_X\")\n",
    "  plt.show()\n",
    "\n",
    "  plt.plot(np.arange(0,len(output),1),output[:,1],'go-',label='Axis Y',c='b')\n",
    "  plt.legend()\n",
    "  plt.xlabel('Time')\n",
    "  plt.ylabel('Output of axis Y')\n",
    "  if save:\n",
    "    plt.savefig(name + \"_Axis_Y\")\n",
    "  plt.show()\n",
    "\n",
    "  plt.plot(np.arange(0,len(output),1),output[:,2],'go-',label='Axis Z',c='c')\n",
    "  plt.legend()\n",
    "  plt.xlabel('Time')\n",
    "  plt.ylabel('Output of axis Z')\n",
    "  if save:\n",
    "    plt.savefig(name + \"_Axis_Z\")\n",
    "  plt.show()\n"
   ]
  },
  {
   "cell_type": "code",
   "execution_count": null,
   "metadata": {},
   "outputs": [],
   "source": [
    "np.ones((48,48,3))"
   ]
  },
  {
   "cell_type": "code",
   "execution_count": null,
   "metadata": {},
   "outputs": [],
   "source": []
  }
 ],
 "metadata": {
  "kernelspec": {
   "display_name": "Python 2",
   "language": "python",
   "name": "python2"
  },
  "language_info": {
   "codemirror_mode": {
    "name": "ipython",
    "version": 2
   },
   "file_extension": ".py",
   "mimetype": "text/x-python",
   "name": "python",
   "nbconvert_exporter": "python",
   "pygments_lexer": "ipython2",
   "version": "2.7.16"
  }
 },
 "nbformat": 4,
 "nbformat_minor": 2
}
