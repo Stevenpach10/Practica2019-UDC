{
 "cells": [
  {
   "cell_type": "code",
   "execution_count": null,
   "metadata": {},
   "outputs": [],
   "source": [
    "from os.path import abspath\n",
    "from pypot.creatures import PoppyTorso\n",
    "import matplotlib.pyplot as plt"
   ]
  },
  {
   "cell_type": "code",
   "execution_count": null,
   "metadata": {},
   "outputs": [],
   "source": [
    "# initialize a local robot\n",
    "scene_path = abspath('./vrep-sensors/torso_lenght_scene.ttt')\n",
    "config_path = abspath('./vrep-sensors/torso_sensors_config.json')\n",
    "poppy = PoppyTorso(simulator='vrep', scene=scene_path, config=config_path)"
   ]
  },
  {
   "cell_type": "code",
   "execution_count": null,
   "metadata": {},
   "outputs": [],
   "source": [
    "from pypot.extras.tracker import Tracker\n",
    "t = Tracker(poppy.head_camera)"
   ]
  },
  {
   "cell_type": "code",
   "execution_count": null,
   "metadata": {},
   "outputs": [],
   "source": [
    "while True:\n",
    "    img = poppy.head_camera.filter_red_objects()\n",
    "    res, values = poppy.head_camera.get_image_objects(img)\n",
    "    if values:\n",
    "        (con, centers, area) = values[0]\n",
    "        t.center_object(centers)"
   ]
  },
  {
   "cell_type": "code",
   "execution_count": null,
   "metadata": {},
   "outputs": [],
   "source": [
    "print poppy.head_y.goal_position\n",
    "print poppy.head_y.present_position"
   ]
  },
  {
   "cell_type": "code",
   "execution_count": null,
   "metadata": {},
   "outputs": [],
   "source": [
    "img = poppy.head_camera.filter_red_objects()\n",
    "res, values = poppy.head_camera.get_image_objects(img)\n",
    "(con, centers, area) = values[0]\n",
    "plt.imshow(img[:,:,::-1])\n",
    "plt.show()\n",
    "print centers"
   ]
  },
  {
   "cell_type": "code",
   "execution_count": null,
   "metadata": {},
   "outputs": [],
   "source": []
  }
 ],
 "metadata": {
  "kernelspec": {
   "display_name": "Python 2",
   "language": "python",
   "name": "python2"
  },
  "language_info": {
   "codemirror_mode": {
    "name": "ipython",
    "version": 2
   },
   "file_extension": ".py",
   "mimetype": "text/x-python",
   "name": "python",
   "nbconvert_exporter": "python",
   "pygments_lexer": "ipython2",
   "version": "2.7.14"
  }
 },
 "nbformat": 4,
 "nbformat_minor": 2
}
