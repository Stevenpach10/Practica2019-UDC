{
 "cells": [
  {
   "cell_type": "code",
   "execution_count": null,
   "metadata": {},
   "outputs": [],
   "source": [
    "from os.path import abspath\n",
    "from pypot.creatures import PoppyTorso\n",
    "from pypot.creatures import Imitator"
   ]
  },
  {
   "cell_type": "code",
   "execution_count": null,
   "metadata": {},
   "outputs": [],
   "source": [
    "# initialize a local robot\n",
    "scene_path = abspath('./vrep-sensors/torso_lenght_scene.ttt')\n",
    "config_path = abspath('./vrep-sensors/torso_sensors_config.json')\n",
    "poppy = PoppyTorso(simulator='vrep', scene=scene_path, config=config_path)"
   ]
  },
  {
   "cell_type": "code",
   "execution_count": null,
   "metadata": {},
   "outputs": [],
   "source": [
    "# the REST API should be enabled and running on poppy.local:8080, otherwise it will return a connection error\n",
    "robots = Imitator(remote_robots=['poppy.local:8080'], local_robots=[poppy])"
   ]
  },
  {
   "cell_type": "code",
   "execution_count": null,
   "metadata": {},
   "outputs": [],
   "source": [
    "# set 'get_value' parameter to True when expecting a return value\n",
    "robots.imitate('head_z.goal_position', get_value=True)"
   ]
  },
  {
   "cell_type": "code",
   "execution_count": null,
   "metadata": {},
   "outputs": [],
   "source": [
    "# set 'get value' parameter to False for instructions without a return value\n",
    "robots.imitate('head_z.goal_position = 10', get_value=False)"
   ]
  },
  {
   "cell_type": "code",
   "execution_count": null,
   "metadata": {},
   "outputs": [],
   "source": [
    "# functions calls can work without 'get_value' parameter\n",
    "robots.imitate('head_z.goto_position(0,1)')"
   ]
  },
  {
   "cell_type": "code",
   "execution_count": null,
   "metadata": {},
   "outputs": [],
   "source": []
  }
 ],
 "metadata": {
  "kernelspec": {
   "display_name": "Python 2",
   "language": "python",
   "name": "python2"
  },
  "language_info": {
   "codemirror_mode": {
    "name": "ipython",
    "version": 2
   },
   "file_extension": ".py",
   "mimetype": "text/x-python",
   "name": "python",
   "nbconvert_exporter": "python",
   "pygments_lexer": "ipython2",
   "version": "2.7.14"
  }
 },
 "nbformat": 4,
 "nbformat_minor": 2
}
