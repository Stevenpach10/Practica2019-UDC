{
 "cells": [
  {
   "cell_type": "code",
   "execution_count": 17,
   "metadata": {},
   "outputs": [
    {
     "ename": "NameError",
     "evalue": "name 'config_path' is not defined",
     "output_type": "error",
     "traceback": [
      "\u001b[0;31m---------------------------------------------------------------------------\u001b[0m",
      "\u001b[0;31mNameError\u001b[0m                                 Traceback (most recent call last)",
      "\u001b[0;32m<ipython-input-17-640d97b6ece3>\u001b[0m in \u001b[0;36m<module>\u001b[0;34m()\u001b[0m\n\u001b[1;32m      1\u001b[0m \u001b[0;32mfrom\u001b[0m \u001b[0mpypot\u001b[0m\u001b[0;34m.\u001b[0m\u001b[0mcreatures\u001b[0m \u001b[0;32mimport\u001b[0m \u001b[0mPoppyTorso\u001b[0m\u001b[0;34m\u001b[0m\u001b[0m\n\u001b[0;32m----> 2\u001b[0;31m \u001b[0mpoppy\u001b[0m \u001b[0;34m=\u001b[0m \u001b[0mPoppyTorso\u001b[0m\u001b[0;34m(\u001b[0m\u001b[0mconfig\u001b[0m\u001b[0;34m=\u001b[0m\u001b[0mconfig_path\u001b[0m\u001b[0;34m)\u001b[0m\u001b[0;34m\u001b[0m\u001b[0m\n\u001b[0m",
      "\u001b[0;31mNameError\u001b[0m: name 'config_path' is not defined"
     ]
    }
   ],
   "source": [
    "from pypot.creatures import PoppyTorso\n",
    "config_path = './vrep-sensors/torso_vrep_sensors_config.json'\n",
    "\n",
    "poppy = PoppyTorso(config=config_path)"
   ]
  },
  {
   "cell_type": "code",
   "execution_count": 12,
   "metadata": {},
   "outputs": [],
   "source": [
    "poppy.l_elbow_y.compliant = False\n",
    "poppy.r_elbow_y.compliant = False\n",
    "poppy.r_elbow_y.goal_position = 0.0\n",
    "poppy.bust_y.compliant = False\n",
    "poppy.bust_y.goal_position = 0.0\n",
    "poppy.bust_y.compliant = False\n",
    "poppy.bust_y.goal_position = 0.0"
   ]
  },
  {
   "cell_type": "code",
   "execution_count": 15,
   "metadata": {},
   "outputs": [],
   "source": [
    "for m in poppy.motors:\n",
    "    m.compliant = False\n",
    "    m.goal_position = 0.0"
   ]
  },
  {
   "cell_type": "code",
   "execution_count": 16,
   "metadata": {},
   "outputs": [
    {
     "data": {
      "text/plain": [
       "[]"
      ]
     },
     "execution_count": 16,
     "metadata": {},
     "output_type": "execute_result"
    }
   ],
   "source": [
    "[sensor.name for sensor in poppy.sensors]"
   ]
  },
  {
   "cell_type": "code",
   "execution_count": 8,
   "metadata": {},
   "outputs": [],
   "source": [
    "import cv2\n",
    "camera = cv2.VideoCapture(2)\n",
    "for i in range(10):\n",
    "    return_value, image = camera.read()\n",
    "    cv2.imwrite('opencv'+str(i)+'.png', image)\n",
    "del(camera)"
   ]
  },
  {
   "cell_type": "code",
   "execution_count": 18,
   "metadata": {},
   "outputs": [],
   "source": [
    "for m in poppy.motors:\n",
    "    m.compliant = True\n",
    "    m.goal_position = 0.0"
   ]
  },
  {
   "cell_type": "code",
   "execution_count": null,
   "metadata": {},
   "outputs": [],
   "source": []
  }
 ],
 "metadata": {
  "kernelspec": {
   "display_name": "Python 2",
   "language": "python",
   "name": "python2"
  },
  "language_info": {
   "codemirror_mode": {
    "name": "ipython",
    "version": 2
   },
   "file_extension": ".py",
   "mimetype": "text/x-python",
   "name": "python",
   "nbconvert_exporter": "python",
   "pygments_lexer": "ipython2",
   "version": "2.7.16"
  }
 },
 "nbformat": 4,
 "nbformat_minor": 2
}
