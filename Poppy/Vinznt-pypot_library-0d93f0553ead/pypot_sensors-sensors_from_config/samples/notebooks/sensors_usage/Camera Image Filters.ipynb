{
 "cells": [
  {
   "cell_type": "code",
   "execution_count": null,
   "metadata": {},
   "outputs": [],
   "source": [
    "from pypot.sensor import OpenCVCamera\n",
    "import matplotlib.pyplot as plt"
   ]
  },
  {
   "cell_type": "code",
   "execution_count": null,
   "metadata": {},
   "outputs": [],
   "source": [
    "cam = OpenCVCamera('camera', 0, 20)"
   ]
  },
  {
   "cell_type": "code",
   "execution_count": null,
   "metadata": {},
   "outputs": [],
   "source": [
    "red = cam.filter_red_objects()\n",
    "red = red[:,:,::-1]\n",
    "plt.imshow(red)\n",
    "plt.show()"
   ]
  },
  {
   "cell_type": "code",
   "execution_count": null,
   "metadata": {},
   "outputs": [],
   "source": [
    "yellow = cam.filter_yellow_objects()\n",
    "yellow = yellow[:,:,::-1]\n",
    "plt.imshow(yellow)\n",
    "plt.show()"
   ]
  },
  {
   "cell_type": "code",
   "execution_count": null,
   "metadata": {},
   "outputs": [],
   "source": [
    "green = cam.filter_green_objects()\n",
    "green = green[:,:,::-1]\n",
    "plt.imshow(green)\n",
    "plt.show()"
   ]
  },
  {
   "cell_type": "code",
   "execution_count": null,
   "metadata": {},
   "outputs": [],
   "source": [
    "a,b = ([165,50,50], [182,255,255]) #HSV range for red color\n",
    "custom = cam.filter_objects_by_color_range(a, b)\n",
    "im_objects, objects = cam.get_image_objects(custom,approximate=False,draw_contours=True, gaussian_filter_size=9, threshold_limits=[20,255])\n",
    "im_objects_rgb = im_objects[:,:,::-1]\n",
    "plt.imshow(im_objects_rgb)\n",
    "plt.show()\n",
    "for (contours, center, area) in objects:\n",
    "    print center, area"
   ]
  },
  {
   "cell_type": "code",
   "execution_count": null,
   "metadata": {},
   "outputs": [],
   "source": [
    "import cv2\n",
    "def custom_filter(bgr_image):\n",
    "    \"\"\"The custom filter must receive an BGR image as a param\n",
    "    :param image: BGR array image\n",
    "    \"\"\"\n",
    "    image = bgr_image.copy()\n",
    "    gaussian_filter_size = 9\n",
    "    threshold_limits = [10,255]\n",
    "    approximate = True\n",
    "    gray_image = cv2.cvtColor(image, cv2.COLOR_BGR2GRAY)\n",
    "    blurred = cv2.GaussianBlur(gray_image, (gaussian_filter_size, gaussian_filter_size), 0)\n",
    "    thresh = cv2.threshold(blurred, threshold_limits[0], threshold_limits[1], cv2.THRESH_BINARY)[1]\n",
    "    contours = cv2.findContours(thresh.copy(), cv2.RETR_EXTERNAL, cv2.CHAIN_APPROX_SIMPLE)\n",
    "    contours = contours[1]\n",
    "    objects = []\n",
    "    for contour in contours:\n",
    "        if approximate:\n",
    "            epsilon = 0.1 * cv2.arcLength(contour, True)\n",
    "            contour = cv2.approxPolyDP(contour, epsilon, True)\n",
    "        area = cv2.contourArea(contour)\n",
    "        if area == 0:\n",
    "            continue\n",
    "        # compute the center of the contour\n",
    "        M = cv2.moments(contour)\n",
    "        try:\n",
    "            center_x = int(M[\"m10\"] / M[\"m00\"])\n",
    "            center_y = int(M[\"m01\"] / M[\"m00\"])\n",
    "            if draw_contours:\n",
    "                cv2.drawContours(image, [contour], -1, (0, 255, 0), 2)\n",
    "                cv2.circle(image, (center_x, center_y), 4, (255, 255, 255), -1)\n",
    "            objects.append((contour, (center_x, center_y), area))\n",
    "        except:\n",
    "            pass\n",
    "    return image, objects"
   ]
  },
  {
   "cell_type": "code",
   "execution_count": null,
   "metadata": {},
   "outputs": [],
   "source": [
    "cam.add_custom_filter(\"custom\",custom_filter)"
   ]
  },
  {
   "cell_type": "code",
   "execution_count": null,
   "metadata": {},
   "outputs": [],
   "source": [
    "cam.run_custom_filter(\"custom\")"
   ]
  },
  {
   "cell_type": "code",
   "execution_count": null,
   "metadata": {},
   "outputs": [],
   "source": [
    "cam.close()"
   ]
  },
  {
   "cell_type": "code",
   "execution_count": null,
   "metadata": {},
   "outputs": [],
   "source": []
  }
 ],
 "metadata": {
  "kernelspec": {
   "display_name": "Python 2",
   "language": "python",
   "name": "python2"
  },
  "language_info": {
   "codemirror_mode": {
    "name": "ipython",
    "version": 2
   },
   "file_extension": ".py",
   "mimetype": "text/x-python",
   "name": "python",
   "nbconvert_exporter": "python",
   "pygments_lexer": "ipython2",
   "version": "2.7.14"
  }
 },
 "nbformat": 4,
 "nbformat_minor": 2
}
