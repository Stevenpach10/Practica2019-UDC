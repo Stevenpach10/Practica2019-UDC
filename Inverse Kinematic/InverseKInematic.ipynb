{
 "cells": [
  {
   "cell_type": "code",
   "execution_count": 1,
   "metadata": {},
   "outputs": [
    {
     "name": "stdout",
     "output_type": "stream",
     "text": [
      "WARNING:tensorflow:\n",
      "The TensorFlow contrib module will not be included in TensorFlow 2.0.\n",
      "For more information, please see:\n",
      "  * https://github.com/tensorflow/community/blob/master/rfcs/20180907-contrib-sunset.md\n",
      "  * https://github.com/tensorflow/addons\n",
      "  * https://github.com/tensorflow/io (for I/O related ops)\n",
      "If you depend on functionality not listed there, please file an issue.\n",
      "\n",
      "WARNING:tensorflow:From ./sketchModel/sketch_pix2seq_train.py:20: The name tf.logging.set_verbosity is deprecated. Please use tf.compat.v1.logging.set_verbosity instead.\n",
      "\n",
      "WARNING:tensorflow:From ./sketchModel/sketch_pix2seq_train.py:20: The name tf.logging.INFO is deprecated. Please use tf.compat.v1.logging.INFO instead.\n",
      "\n"
     ]
    }
   ],
   "source": [
    "import ikpy\n",
    "import sys\n",
    "import numpy as np\n",
    "from ikpy import plot_utils\n",
    "from os.path import abspath\n",
    "from pypot.creatures import PoppyTorso\n",
    "import time\n",
    "from datetime import datetime\n",
    "from dateutil.relativedelta import relativedelta\n",
    "import matplotlib.pyplot as plt\n",
    "sys.path.append('./sketchModel')\n",
    "from sketch_pix2seq_sampling import getAbsoluteStrokes,drawAbsolutePosition"
   ]
  },
  {
   "cell_type": "code",
   "execution_count": 2,
   "metadata": {},
   "outputs": [
    {
     "name": "stdout",
     "output_type": "stream",
     "text": [
      "WARNING:tensorflow:From ./sketchModel/sketch_pix2seq_sampling.py:119: The name tf.gfile.Open is deprecated. Please use tf.io.gfile.GFile instead.\n",
      "\n",
      "model_params.max_seq_len 129.\n",
      "WARNING:tensorflow:From ./sketchModel/sketch_pix2seq_train.py:51: The name tf.get_default_session is deprecated. Please use tf.compat.v1.get_default_session instead.\n",
      "\n",
      "WARNING:tensorflow:From ./sketchModel/sketch_pix2seq_train.py:54: The name tf.reset_default_graph is deprecated. Please use tf.compat.v1.reset_default_graph instead.\n",
      "\n",
      "WARNING:tensorflow:From ./sketchModel/model.py:61: The name tf.variable_scope is deprecated. Please use tf.compat.v1.variable_scope instead.\n",
      "\n",
      "----------------------------------------------------------------------------------------------------\n",
      "is_training: True\n",
      "Model using gpu.\n",
      "Input dropout mode = False.\n",
      "Output dropout mode = False.\n",
      "Recurrent dropout mode = True.\n",
      "WARNING:tensorflow:From ./sketchModel/model.py:170: The name tf.placeholder is deprecated. Please use tf.compat.v1.placeholder instead.\n",
      "\n",
      "WARNING:tensorflow:From ./sketchModel/model.py:91: The name tf.get_variable is deprecated. Please use tf.compat.v1.get_variable instead.\n",
      "\n",
      "WARNING:tensorflow:From /home/steven/anaconda2/lib/python2.7/site-packages/tensorflow/python/ops/init_ops.py:1251: calling __init__ (from tensorflow.python.ops.init_ops) with dtype is deprecated and will be removed in a future version.\n",
      "Instructions for updating:\n",
      "Call initializer instance with the dtype argument instead of passing it to the constructor\n",
      "WARNING:tensorflow:From ./sketchModel/model.py:233: dynamic_rnn (from tensorflow.python.ops.rnn) is deprecated and will be removed in a future version.\n",
      "Instructions for updating:\n",
      "Please use `keras.layers.RNN(cell)`, which is equivalent to this API\n",
      "WARNING:tensorflow:From ./sketchModel/rnn.py:488: calling dropout (from tensorflow.python.ops.nn_ops) with keep_prob is deprecated and will be removed in a future version.\n",
      "Instructions for updating:\n",
      "Please use `rate` instead of `keep_prob`. Rate should be set to `rate = 1 - keep_prob`.\n",
      "WARNING:tensorflow:From ./sketchModel/model.py:236: The name tf.nn.xw_plus_b is deprecated. Please use tf.compat.v1.nn.xw_plus_b instead.\n",
      "\n",
      "WARNING:tensorflow:From ./sketchModel/model.py:246: div (from tensorflow.python.ops.math_ops) is deprecated and will be removed in a future version.\n",
      "Instructions for updating:\n",
      "Deprecated in favor of operator or tf.math.divide.\n",
      "WARNING:tensorflow:From ./sketchModel/model.py:265: calling reduce_sum_v1 (from tensorflow.python.ops.math_ops) with keep_dims is deprecated and will be removed in a future version.\n",
      "Instructions for updating:\n",
      "keep_dims is deprecated, use keepdims instead\n",
      "WARNING:tensorflow:From ./sketchModel/model.py:275: softmax_cross_entropy_with_logits (from tensorflow.python.ops.nn_ops) is deprecated and will be removed in a future version.\n",
      "Instructions for updating:\n",
      "\n",
      "Future major versions of TensorFlow will allow gradients to flow\n",
      "into the labels input on backprop by default.\n",
      "\n",
      "See `tf.nn.softmax_cross_entropy_with_logits_v2`.\n",
      "\n",
      "WARNING:tensorflow:From ./sketchModel/model.py:331: The name tf.train.AdamOptimizer is deprecated. Please use tf.compat.v1.train.AdamOptimizer instead.\n",
      "\n",
      "----------------------------------------------------------------------------------------------------\n",
      "is_training: 0\n",
      "Model using gpu.\n",
      "Input dropout mode = 0.\n",
      "Output dropout mode = 0.\n",
      "Recurrent dropout mode = 0.\n",
      "----------------------------------------------------------------------------------------------------\n",
      "is_training: 0\n",
      "Model using gpu.\n",
      "Input dropout mode = 0.\n",
      "Output dropout mode = 0.\n",
      "Recurrent dropout mode = 0.\n",
      "WARNING:tensorflow:From ./sketchModel/sketch_pix2seq_train.py:278: The name tf.train.Saver is deprecated. Please use tf.compat.v1.train.Saver instead.\n",
      "\n",
      "Loading model ./sketchModel/outputs/snapshot/vector-11100\n",
      "WARNING:tensorflow:From /home/steven/anaconda2/lib/python2.7/site-packages/tensorflow/python/training/saver.py:1276: checkpoint_exists (from tensorflow.python.training.checkpoint_management) is deprecated and will be removed in a future version.\n",
      "Instructions for updating:\n",
      "Use standard file APIs to check for files with this prefix.\n",
      "INFO:tensorflow:Restoring parameters from ./sketchModel/outputs/snapshot/vector-11100\n",
      "[[44.670422   37.31999379  0.        ]\n",
      " [44.34435405 37.45704188  0.        ]\n",
      " [43.70234038 37.52711465  0.        ]\n",
      " [42.73293532 37.38073138  0.        ]\n",
      " [41.77912255 36.84761951  0.        ]\n",
      " [41.19347532 36.25924919  0.        ]\n",
      " [40.84563534 35.58128915  0.        ]\n",
      " [40.7363376  35.04367784  0.        ]\n",
      " [40.76087731 34.31433807  0.        ]\n",
      " [41.02229592 33.6689534   0.        ]\n",
      " [41.47314557 33.11018196  0.        ]\n",
      " [42.10121301 32.67636267  0.        ]\n",
      " [42.89586875 32.39751396  0.        ]\n",
      " [44.05653438 32.28431332  0.        ]\n",
      " [44.93449995 32.36137433  0.        ]\n",
      " [45.69913158 32.61998759  0.        ]\n",
      " [46.40270129 33.03861372  0.        ]\n",
      " [46.94102797 33.55495648  0.        ]\n",
      " [47.34147108 34.17628245  0.        ]\n",
      " [47.55859409 34.86513005  0.        ]\n",
      " [47.59893589 35.60777436  0.        ]\n",
      " [47.45465419 36.04270755  0.        ]\n",
      " [47.16881896 36.4098755   0.        ]\n",
      " [46.22881377 37.02985571  0.        ]\n",
      " [45.06518186 37.43993278  0.        ]\n",
      " [43.90310729 37.59902383  0.        ]\n",
      " [43.14843637 37.5582393   1.        ]\n",
      " [41.68288929 36.89642097  0.        ]\n",
      " [42.16810573 38.50943531  0.        ]\n",
      " [42.84849352 39.78399254  0.        ]\n",
      " [43.43230052 38.5612966   0.        ]\n",
      " [43.97352607 37.61768158  1.        ]\n",
      " [46.07767398 37.02086885  0.        ]\n",
      " [47.41263122 37.77580114  0.        ]\n",
      " [48.12331826 38.3390757   0.        ]\n",
      " [48.04565383 37.25824918  0.        ]\n",
      " [47.69597764 36.13767482  0.        ]\n",
      " [47.53245767 35.89632204  1.        ]\n",
      " [43.25601228 35.52887276  0.        ]\n",
      " [43.21565803 35.34029046  0.        ]\n",
      " [43.32765164 35.38007925  0.        ]\n",
      " [43.38076523 35.5558758   0.        ]\n",
      " [43.26364487 35.54052831  0.        ]\n",
      " [43.33134148 35.46333377  0.        ]\n",
      " [43.37248779 35.50598308  0.        ]\n",
      " [43.30644084 35.4741944   0.        ]\n",
      " [43.36371222 35.45064197  0.        ]\n",
      " [43.37719495 35.50563158  0.        ]\n",
      " [43.31905804 35.44842525  0.        ]\n",
      " [43.3752747  35.39435821  0.        ]\n",
      " [43.43164331 35.45294864  0.        ]\n",
      " [43.34923422 35.45643633  0.        ]\n",
      " [43.40065791 35.39577641  0.        ]\n",
      " [43.45460429 35.42517652  0.        ]\n",
      " [43.37651986 35.42217911  0.        ]\n",
      " [43.41817238 35.36441438  0.        ]\n",
      " [43.59904061 35.37974144  0.        ]\n",
      " [43.64876056 35.49880119  0.        ]\n",
      " [43.52193149 35.55301339  0.        ]\n",
      " [43.38735692 35.50509705  0.        ]\n",
      " [43.34955336 35.38434081  0.        ]\n",
      " [43.54296313 35.33694873  0.        ]\n",
      " [43.63471199 35.4550287   0.        ]\n",
      " [43.47143158 35.45903057  0.        ]\n",
      " [43.50536238 35.36532014  0.        ]\n",
      " [43.69094076 35.34644529  0.        ]\n",
      " [43.78416163 35.45158728  0.        ]\n",
      " [43.64359287 35.48153211  0.        ]\n",
      " [43.52001273 35.38690716  0.        ]\n",
      " [43.63949689 35.32724645  0.        ]\n",
      " [43.7660408  35.39215595  0.        ]\n",
      " [43.72140436 35.46583954  0.        ]\n",
      " [43.57746284 35.46785102  0.        ]\n",
      " [43.47219741 35.3767871   0.        ]\n",
      " [43.47124158 35.25014602  0.        ]\n",
      " [43.64600952 35.19141859  0.        ]\n",
      " [43.77560732 35.27107673  0.        ]\n",
      " [43.74314705 35.37209385  0.        ]\n",
      " [43.60007213 35.39417274  0.        ]\n",
      " [43.49120605 35.31755827  0.        ]\n",
      " [43.48820388 35.19242185  0.        ]\n",
      " [43.67055286 35.174163    0.        ]\n",
      " [43.75439449 35.29394156  0.        ]\n",
      " [43.65571461 35.33062269  0.        ]\n",
      " [43.62781681 35.22039187  0.        ]\n",
      " [43.73627694 35.18914504  0.        ]\n",
      " [43.82690755 35.26964327  0.        ]\n",
      " [43.7122796  35.28458953  0.        ]\n",
      " [43.72686683 35.18597075  0.        ]\n",
      " [43.90349311 35.14958407  0.        ]\n",
      " [44.0004892  35.24060519  0.        ]\n",
      " [43.91385726 35.28885527  0.        ]\n",
      " [43.75077081 35.25732792  0.        ]\n",
      " [43.66422343 35.15877649  0.        ]\n",
      " [43.85028653 35.10476422  0.        ]\n",
      " [43.87398565 35.17519522  0.        ]\n",
      " [43.76874902 35.15591374  0.        ]\n",
      " [43.82498968 35.09757618  0.        ]\n",
      " [43.87386868 35.09342636  0.        ]\n",
      " [43.83746355 35.10290687  0.        ]\n",
      " [43.82867079 35.06225868  0.        ]\n",
      " [43.88663831 35.0503072   0.        ]\n",
      " [43.9431199  35.10046072  0.        ]\n",
      " [43.89054213 35.09426747  0.        ]\n",
      " [43.90064543 35.0339614   0.        ]\n",
      " [43.96113952 35.01384623  0.        ]\n",
      " [44.00766222 35.05565845  0.        ]\n",
      " [43.94268398 35.09857245  0.        ]\n",
      " [43.82230856 35.08250913  0.        ]\n",
      " [43.76283135 34.99460447  0.        ]\n",
      " [43.80447666 34.88973299  0.        ]\n",
      " [43.96793778 34.85472577  0.        ]\n",
      " [44.08402299 34.94061947  0.        ]\n",
      " [44.05900517 35.0338862   0.        ]\n",
      " [43.91952513 35.06024011  0.        ]\n",
      " [43.80674431 34.99351011  0.        ]\n",
      " [43.79472454 34.88155448  0.        ]\n",
      " [43.96296668 34.81395044  0.        ]\n",
      " [44.09091256 34.87456361  0.        ]\n",
      " [44.08452455 34.9876024   0.        ]\n",
      " [43.95856822 35.03115781  0.        ]\n",
      " [43.84045126 34.97193098  0.        ]\n",
      " [43.81655249 34.85712455  0.        ]\n",
      " [43.98627941 34.84908282  0.        ]\n",
      " [44.04766308 34.96715314  0.        ]\n",
      " [43.93346448 34.93438391  0.        ]\n",
      " [43.99811247 34.86374822  0.        ]\n",
      " [44.02484323 34.87630734  0.        ]\n",
      " [43.99204959 34.87295276  0.        ]\n",
      " [44.01353075 34.84235733  0.        ]]\n"
     ]
    }
   ],
   "source": [
    "strokes = getAbsoluteStrokes('','','./sketchModel/outputs/snapshot','./200.png')"
   ]
  },
  {
   "cell_type": "code",
   "execution_count": 3,
   "metadata": {},
   "outputs": [],
   "source": [
    "from pypot.vrep import remote_api,vrep_session_id\n",
    "remote_api.simxFinish(-1)\n",
    "scene_path = abspath('./vrep-sensors/torso_sensors_scene.ttt')\n",
    "config_path = abspath('./vrep-sensors/torso_vrep_sensors_config.json')\n",
    "#config_path = abspath('./config/torso_config_cam01.json')\n",
    "poppy = PoppyTorso(simulator='vrep', scene=scene_path, config=config_path)\n",
    "#poppy = PoppyTorso(config=config_path)"
   ]
  },
  {
   "cell_type": "code",
   "execution_count": 4,
   "metadata": {},
   "outputs": [
    {
     "data": {
      "text/plain": [
       "'for motor in poppy.motors:\\n    print(motor.name)\\n    motor.compliant = True\\n    motor.goto_position(0, 3)\\n'"
      ]
     },
     "execution_count": 4,
     "metadata": {},
     "output_type": "execute_result"
    }
   ],
   "source": [
    "'''for motor in poppy.motors:\n",
    "    print(motor.name)\n",
    "    motor.compliant = True\n",
    "    motor.goto_position(0, 3)\n",
    "'''"
   ]
  },
  {
   "cell_type": "code",
   "execution_count": 5,
   "metadata": {},
   "outputs": [],
   "source": [
    "#poppy.bust_y.compliant = True"
   ]
  },
  {
   "cell_type": "code",
   "execution_count": 6,
   "metadata": {},
   "outputs": [],
   "source": [
    "#poppy.r_elbow_y.goto_position(10.9,0.5)\n",
    "#poppy.r_arm_z.goto_position(-45,0.5) #Angle, Time"
   ]
  },
  {
   "cell_type": "code",
   "execution_count": 7,
   "metadata": {},
   "outputs": [
    {
     "data": {
      "image/png": "[encoded data removed]",
      "text/plain": [
       "<Figure size 432x288 with 1 Axes>"
      ]
     },
     "metadata": {
      "needs_background": "light"
     },
     "output_type": "display_data"
    }
   ],
   "source": [
    "drawAbsolutePosition(strokes,(0,48,0,48))"
   ]
  },
  {
   "cell_type": "code",
   "execution_count": 8,
   "metadata": {},
   "outputs": [
    {
     "data": {
      "image/png": "[encoded data removed]",
      "text/plain": [
       "<Figure size 432x288 with 1 Axes>"
      ]
     },
     "metadata": {
      "needs_background": "light"
     },
     "output_type": "display_data"
    }
   ],
   "source": [
    "image_size = 0.15\n",
    "x_bound_min = -0.15\n",
    "y_bound_min = 0.10\n",
    "bound_max = 0.30\n",
    "\n",
    "def rescaleImage(strokes,init_size,end_size,xFactor, yFactor):\n",
    "    new_stroke = []\n",
    "    for stroke in strokes:\n",
    "        x = end_size/(init_size/stroke[0])\n",
    "        y = end_size/(init_size/stroke[1])\n",
    "        new_stroke.append([x,y,stroke[2]])\n",
    "    new_stroke = np.asarray(new_stroke)\n",
    "    \n",
    "    xMin = np.min(new_stroke[:,0])\n",
    "    xMax = np.max(new_stroke[:,0])\n",
    "\n",
    "    yMin = np.min(new_stroke[:,1])\n",
    "    yMax = np.max(new_stroke[:,1])\n",
    "    \n",
    "    \n",
    "    multiX = end_size/(xMax-xMin)\n",
    "    multiY = end_size/(yMax-yMin)\n",
    "    \n",
    "    new_stroke[:,0] = new_stroke[:,0] * np.floor(multiX)\n",
    "    new_stroke[:,1] = new_stroke[:,1] * np.floor(multiY)\n",
    "    new_stroke = moveImage(new_stroke,xFactor,yFactor)\n",
    "    return new_stroke\n",
    "\n",
    "def moveImage(stroke_rescale, xFactor, yFactor):\n",
    "    xMin = np.min(stroke_rescale[:,0])\n",
    "    yMin = np.min(stroke_rescale[:,1])\n",
    "\n",
    "    stroke_rescale[:,0] = (stroke_rescale[:,0] - (xMin * xFactor))\n",
    "    stroke_rescale[:,1] = stroke_rescale[:,1] - (yMin * yFactor)\n",
    "    return stroke_rescale\n",
    "\n",
    "stroke_rescale = rescaleImage(strokes, 48, image_size,1.10, 0.70)\n",
    "#print(stroke_rescale)\n",
    "xMin = np.min(stroke_rescale[:,0])\n",
    "xMax = np.max(stroke_rescale[:,0])\n",
    "\n",
    "yMin = np.min(stroke_rescale[:,1])\n",
    "yMax = np.max(stroke_rescale[:,1])\n",
    "    \n",
    "drawAbsolutePosition(stroke_rescale,(x_bound_min,x_bound_min+bound_max,y_bound_min, y_bound_min+bound_max))\n"
   ]
  },
  {
   "cell_type": "markdown",
   "metadata": {},
   "source": [
    "# Limite de angulos en VREP"
   ]
  },
  {
   "cell_type": "markdown",
   "metadata": {},
   "source": [
    "abs_z = -80, 80 <br>\n",
    "bust_y = -46, 23 <br>\n",
    "bust_x = -40 40 <br>\n",
    "l_shoulder_y = -180, 150 <br>\n",
    "l_shoulder_x = -105, 110 <br>\n",
    "l_arm_z = -70, 90 <br>\n",
    "l_elbow_y = -90, 90"
   ]
  },
  {
   "cell_type": "markdown",
   "metadata": {},
   "source": [
    "# Posición del efector final"
   ]
  },
  {
   "cell_type": "markdown",
   "metadata": {},
   "source": [
    "El calculo del efector final es computado a partir de las articulación de la cadena y la cinematica del robot\n",
    "Representa una posición teorica el cual difiere de la real por imperfecciones del modelo."
   ]
  },
  {
   "cell_type": "code",
   "execution_count": 9,
   "metadata": {},
   "outputs": [],
   "source": [
    "def getEffector():\n",
    "    effector = poppy.l_arm_chain.end_effector\n",
    "    print(\"X : %.6f\" % effector[0] + \", Y : %.6f\" % effector[1] + \", Z : %.6f\" % effector[2])\n",
    "    return effector"
   ]
  },
  {
   "cell_type": "markdown",
   "metadata": {},
   "source": [
    "# Posición de los angulos"
   ]
  },
  {
   "cell_type": "markdown",
   "metadata": {},
   "source": [
    "Representa los valores de la articulación de la cadena expresado en angulos."
   ]
  },
  {
   "cell_type": "code",
   "execution_count": 10,
   "metadata": {},
   "outputs": [],
   "source": [
    "def getDegrees():\n",
    "    nameMotors = [motor.name for motor in poppy.l_arm_chain.motors]\n",
    "    mapped = zip(nameMotors, poppy.l_arm_chain.joints_position)\n",
    "    for motorValue in mapped:\n",
    "        print(motorValue)"
   ]
  },
  {
   "cell_type": "code",
   "execution_count": 11,
   "metadata": {},
   "outputs": [],
   "source": [
    "def calc_difference(point,effector):\n",
    "    result = [0,0,0]\n",
    "    result[0] = abs(point[0]-effector[0])\n",
    "    result[1] = abs(point[1]-effector[1])\n",
    "    result[2] = abs(point[2]-effector[2])\n",
    "    return result\n",
    "\n",
    "def mov_poppy_arm(chain, umbral, point):\n",
    "    iteration = 1\n",
    "    effector = chain.end_effector\n",
    "    diff = calc_difference(point, effector)\n",
    "    while((diff[0] >= umbral[0] or diff[1] >= umbral[1] or diff[2] >= umbral[2]) and iteration <= 50):\n",
    "        chain.goto((point[0], point[1], point[2]), 0.1, wait=True)\n",
    "        time.sleep(0.1)\n",
    "        effector = chain.end_effector\n",
    "        diff = calc_difference(point, effector)\n",
    "        iteration += 1\n",
    "    return iteration\n",
    "\n",
    "def diff_time(t_a, t_b):\n",
    "    t_diff = relativedelta(t_b, t_a)  # later/end time comes first!\n",
    "    return '{h}h {m}m {s}s'.format(h=t_diff.hours, m=t_diff.minutes, s=t_diff.seconds)"
   ]
  },
  {
   "cell_type": "code",
   "execution_count": 12,
   "metadata": {},
   "outputs": [],
   "source": [
    "x_umbral = 0.002\n",
    "y_umbral = 0.002\n",
    "z_umbral = 0.002\n",
    "\n",
    "umbral = (0.002, 0.002, 0.002)\n",
    "umbral_without = (0.1, 0.01, 0.1)"
   ]
  },
  {
   "cell_type": "markdown",
   "metadata": {},
   "source": [
    "# Dibujar gato"
   ]
  },
  {
   "cell_type": "code",
   "execution_count": 13,
   "metadata": {},
   "outputs": [],
   "source": [
    "from pypot.vrep import remote_api,vrep_session_id\n",
    "def draw_VREP_Point(points):\n",
    "    res = remote_api.simxCallScriptFunction(vrep_session_id, 'Canvas', \n",
    "                                                remote_api.sim_scripttype_childscript, 'draw_point', \n",
    "                                                [], points, [], bytearray(), remote_api.simx_opmode_blocking)\n",
    "def draw_VREP_Line(points):\n",
    "    res = remote_api.simxCallScriptFunction(vrep_session_id, 'Canvas', \n",
    "                                            remote_api.sim_scripttype_childscript, 'draw_line', \n",
    "                                            [], points, [], bytearray(), remote_api.simx_opmode_blocking)"
   ]
  },
  {
   "cell_type": "code",
   "execution_count": 14,
   "metadata": {
    "scrolled": true
   },
   "outputs": [],
   "source": [
    "\n",
    "def drawWithPoppyPoint(planeY, withoutDraw, strokes):\n",
    "    axisY = planeY\n",
    "    stroke_i = 0\n",
    "    umbralR = (0, 0, 0)\n",
    "    size = len(strokes)\n",
    "    position_draw_log = []\n",
    "    position_without_draw_log = []\n",
    "    position_total = []\n",
    "    auxhandle = remote_api.simxGetObjectHandle(vrep_session_id, 'l_ball', remote_api.simx_opmode_blocking)\n",
    "    position = remote_api.simxGetObjectPosition(vrep_session_id, auxhandle[1], -1, remote_api.simx_opmode_streaming)\n",
    "    start = datetime.now()\n",
    "    for stroke in strokes:\n",
    "        if stroke[2] == 0:\n",
    "            axisY = planeY\n",
    "            umbralR = umbral\n",
    "        else:\n",
    "            axisY = withoutDraw\n",
    "            umbralR = umbral_without\n",
    "        i = mov_poppy_arm(poppy.l_arm_chain, umbralR, (stroke[0], axisY, stroke[1]))\n",
    "        stroke_i += 1\n",
    "        position = remote_api.simxGetObjectPosition(vrep_session_id, auxhandle[1], -1, remote_api.simx_opmode_buffer)\n",
    "        if(axisY == planeY):\n",
    "            position_draw_log.append(position[1])\n",
    "            draw_VREP_Point([position[1][0],position[1][1]-0.04,position[1][2]])\n",
    "        else:\n",
    "            position_without_draw_log.append(position[1])\n",
    "        position_total.append(position[1])\n",
    "        print(\"Move %.d\" % stroke_i + \" from %.d\" % size + \" iterations to converge : %.d\" % i)\n",
    "    end = datetime.now()\n",
    "    print(\"-----------------------------------------------\")\n",
    "    print(diff_time(start, end))\n",
    "    mov_poppy_arm(poppy.l_arm_chain, umbral, (stroke[0], withoutDraw, stroke[1]))\n",
    "    return position_total, position_draw_log, position_without_draw_log      \n",
    "#position_total, position_draw_log, position_without_draw_log  = drawWithPoppy(-0.24, -0.13, stroke_rescale)"
   ]
  },
  {
   "cell_type": "code",
   "execution_count": 15,
   "metadata": {},
   "outputs": [],
   "source": [
    "from collections import deque\n",
    "def draw_line(queue):\n",
    "    if(len(queue) != 2):\n",
    "        return queue\n",
    "    initial_point = queue.popleft()\n",
    "    final_point = queue.popleft()\n",
    "    line = np.asarray([initial_point,final_point]).flatten()\n",
    "    draw_VREP_Line(line)\n",
    "    return queue"
   ]
  },
  {
   "cell_type": "code",
   "execution_count": 16,
   "metadata": {},
   "outputs": [],
   "source": [
    "\n",
    "    \n",
    "def drawWithPoppyPoint(planeY, withoutDraw, strokes):\n",
    "    axisY = planeY\n",
    "    stroke_i = 0\n",
    "    umbralR = (0, 0, 0)\n",
    "    size = len(strokes)\n",
    "    position_draw_log = []\n",
    "    position_without_draw_log = []\n",
    "    position_total = []\n",
    "    auxhandle = remote_api.simxGetObjectHandle(vrep_session_id, 'l_ball', remote_api.simx_opmode_blocking)\n",
    "    position = remote_api.simxGetObjectPosition(vrep_session_id, auxhandle[1], -1, remote_api.simx_opmode_streaming)\n",
    "    start = datetime.now()\n",
    "    for stroke in strokes:\n",
    "        if stroke[2] == 0:\n",
    "            axisY = planeY\n",
    "            umbralR = umbral\n",
    "        else:\n",
    "            axisY = withoutDraw\n",
    "            umbralR = umbral_without\n",
    "        i = mov_poppy_arm(poppy.l_arm_chain, umbralR, (stroke[0], axisY, stroke[1]))\n",
    "        stroke_i += 1\n",
    "        position = remote_api.simxGetObjectPosition(vrep_session_id, auxhandle[1], -1, remote_api.simx_opmode_buffer)\n",
    "        if(axisY == planeY):\n",
    "            position_draw_log.append(position[1])\n",
    "            draw_VREP_Point([position[1][0],position[1][1]-0.04,position[1][2]])\n",
    "        else:\n",
    "            position_without_draw_log.append(position[1])\n",
    "        position_total.append(position[1])\n",
    "        print(\"Move %.d\" % stroke_i + \" from %.d\" % size + \" iterations to converge : %.d\" % i)\n",
    "    end = datetime.now()\n",
    "    print(\"-----------------------------------------------\")\n",
    "    print(diff_time(start, end))\n",
    "    mov_poppy_arm(poppy.l_arm_chain, umbral, (stroke[0], withoutDraw, stroke[1]))\n",
    "    return position_total, position_draw_log, position_without_draw_log      \n",
    "#position_total, position_draw_log, position_without_draw_log  = drawWithPoppyPoint(-0.24, -0.13, stroke_rescale)"
   ]
  },
  {
   "cell_type": "code",
   "execution_count": null,
   "metadata": {},
   "outputs": [],
   "source": [
    "\n",
    "    \n",
    "def drawWithPoppyLine(planeY, withoutDraw, strokes):\n",
    "    axisY = planeY\n",
    "    stroke_i = 0\n",
    "    line = deque()\n",
    "    umbralR = (0, 0, 0)\n",
    "    size = len(strokes)\n",
    "    position_draw_log = []\n",
    "    position_without_draw_log = []\n",
    "    position_total = []\n",
    "    auxhandle = remote_api.simxGetObjectHandle(vrep_session_id, 'l_ball', remote_api.simx_opmode_blocking)\n",
    "    position = remote_api.simxGetObjectPosition(vrep_session_id, auxhandle[1], -1, remote_api.simx_opmode_streaming)\n",
    "    start = datetime.now()\n",
    "    for stroke in strokes:\n",
    "        if stroke[2] == 0:\n",
    "            axisY = planeY\n",
    "            umbralR = umbral\n",
    "        else:\n",
    "            axisY = withoutDraw\n",
    "            umbralR = umbral_without\n",
    "        i = mov_poppy_arm(poppy.l_arm_chain, umbralR, (stroke[0], axisY, stroke[1]))\n",
    "        stroke_i += 1\n",
    "        position = remote_api.simxGetObjectPosition(vrep_session_id, auxhandle[1], -1, remote_api.simx_opmode_buffer)\n",
    "        if(axisY == planeY):\n",
    "            position_draw_log.append(position[1])\n",
    "            line.append([position[1][0],position[1][1]-0.04,position[1][2]])\n",
    "            if (len(line) == 2):\n",
    "                draw_line(line)\n",
    "                line.append([position[1][0],position[1][1]-0.04,position[1][2]])\n",
    "        else:\n",
    "            if(len(line) == 1):\n",
    "                line.popleft()\n",
    "            position_without_draw_log.append(position[1])\n",
    "        position_total.append(position[1])\n",
    "        #print(\"Move %.d\" % stroke_i + \" from %.d\" % size + \" iterations to converge : %.d\" % i)\n",
    "    end = datetime.now()\n",
    "    print(\"-----------------------------------------------\")\n",
    "    print(diff_time(start, end))\n",
    "    mov_poppy_arm(poppy.l_arm_chain, umbral, (stroke[0], withoutDraw, stroke[1]))\n",
    "    return position_total, position_draw_log, position_without_draw_log      \n",
    "position_total, position_draw_log, position_without_draw_log  = drawWithPoppyLine(-0.24, -0.13, stroke_rescale)"
   ]
  },
  {
   "cell_type": "code",
   "execution_count": null,
   "metadata": {},
   "outputs": [],
   "source": [
    "position_draw_log = np.asarray(position_draw_log)\n",
    "position_without_draw_log = np.asarray(position_without_draw_log)\n",
    "position_total = np.asarray(position_total)\n",
    "y_draw = position_draw_log[:,1]\n",
    "print(\"VALUES FOR PENCIL DRAWING\")\n",
    "print(\"Low value : %.6f \" % np.min(y_draw))\n",
    "print(\"Mean draw: %.6f \" % np.mean(y_draw))\n",
    "print(\"Median draw: %.6f \" % np.median(y_draw))\n",
    "print(\"High value : %.6f \" % np.max(y_draw))\n",
    "print(\"Space of canvas  : %.6f \" % (np.min(y_draw)-np.max(y_draw)))\n",
    "\n",
    "print(\"----------------------------------------------------------\")\n",
    "print(\"VALUES FOR PENCIL WITHOUT DRAW\")\n",
    "\n",
    "y_without_draw = position_without_draw_log[:,1]\n",
    "print(\"Low value : %.6f \" % np.min(y_without_draw))\n",
    "print(\"Mean without draw: %.6f \" % np.mean(y_without_draw))\n",
    "print(\"Median draw: %.6f \" % np.median(y_without_draw))\n",
    "print(\"High value : %.6f \" % np.max(y_without_draw))\n",
    "print(\"Space of canvas  : %.6f \" % (np.min(y_without_draw)-np.max(y_without_draw)))\n",
    "\n"
   ]
  },
  {
   "cell_type": "code",
   "execution_count": null,
   "metadata": {},
   "outputs": [],
   "source": [
    "mov_poppy_arm(poppy.l_arm_chain, umbral, (0 0, 0))"
   ]
  },
  {
   "cell_type": "code",
   "execution_count": null,
   "metadata": {},
   "outputs": [],
   "source": [
    "print(\"Pencil up %.d\" % np.sum(stroke_rescale[:,2]))\n",
    "def plotAllData(output,save=False,name=\"Image\"):\n",
    "  plt.plot(np.arange(0,len(output),1),output[:,0],'go-',label='Axis X',c='r')\n",
    "  plt.legend()\n",
    "  plt.xlabel('Time')\n",
    "  plt.ylabel('Output of axis X')\n",
    "  if save:\n",
    "    plt.savefig(name + \"_Axis_X\")\n",
    "  plt.show()\n",
    "\n",
    "  plt.plot(np.arange(0,len(output),1),output[:,1],'go-',label='Axis Y',c='b')\n",
    "  plt.legend()\n",
    "  plt.xlabel('Time')\n",
    "  plt.ylabel('Output of axis Y')\n",
    "  if save:\n",
    "    plt.savefig(name + \"_Axis_Y\")\n",
    "  plt.show()\n",
    "\n",
    "  plt.plot(np.arange(0,len(output),1),output[:,2],'go-',label='Axis Z',c='c')\n",
    "  plt.legend()\n",
    "  plt.xlabel('Time')\n",
    "  plt.ylabel('Output of axis Z')\n",
    "  if save:\n",
    "    plt.savefig(name + \"_Axis_Z\")\n",
    "  plt.show()\n",
    "\n",
    "#plotAllData(position_total)"
   ]
  },
  {
   "cell_type": "code",
   "execution_count": 1,
   "metadata": {},
   "outputs": [
    {
     "name": "stderr",
     "output_type": "stream",
     "text": [
      "/home/steven/.local/lib/python2.7/site-packages/IPython/nbformat.py:13: ShimWarning: The `IPython.nbformat` package has been deprecated since IPython 4.0. You should import from nbformat instead.\n",
      "  \"You should import from nbformat instead.\", ShimWarning)\n",
      "/home/steven/.local/lib/python2.7/site-packages/nbformat/current.py:19: UserWarning: nbformat.current is deprecated.\n",
      "\n",
      "- use nbformat for read/write/validate public API\n",
      "- use nbformat.vX directly to composing notebooks of a particular version\n",
      "\n",
      "  \"\"\")\n",
      "/home/steven/.local/lib/python2.7/site-packages/IPython/nbconvert.py:13: ShimWarning: The `IPython.nbconvert` package has been deprecated since IPython 4.0. You should import from nbconvert instead.\n",
      "  \"You should import from nbconvert instead.\", ShimWarning)\n",
      "/home/steven/.local/lib/python2.7/site-packages/nbformat/current.py:75: UserWarning: reads_json is deprecated, use reads\n",
      "  warnings.warn(\"reads_json is deprecated, use reads\")\n"
     ]
    },
    {
     "ename": "AttributeError",
     "evalue": "cells",
     "output_type": "error",
     "traceback": [
      "\u001b[0;31m---------------------------------------------------------------------------\u001b[0m",
      "\u001b[0;31mAttributeError\u001b[0m                            Traceback (most recent call last)",
      "\u001b[0;32m<ipython-input-1-608f0e79b67b>\u001b[0m in \u001b[0;36m<module>\u001b[0;34m()\u001b[0m\n\u001b[1;32m     12\u001b[0m \u001b[0;31m# source is a tuple of python source code\u001b[0m\u001b[0;34m\u001b[0m\u001b[0;34m\u001b[0m\u001b[0m\n\u001b[1;32m     13\u001b[0m \u001b[0;31m# meta contains metadata\u001b[0m\u001b[0;34m\u001b[0m\u001b[0;34m\u001b[0m\u001b[0m\n\u001b[0;32m---> 14\u001b[0;31m \u001b[0msource\u001b[0m\u001b[0;34m,\u001b[0m \u001b[0mmeta\u001b[0m \u001b[0;34m=\u001b[0m \u001b[0mexporter\u001b[0m\u001b[0;34m.\u001b[0m\u001b[0mfrom_notebook_node\u001b[0m\u001b[0;34m(\u001b[0m\u001b[0mnb\u001b[0m\u001b[0;34m)\u001b[0m\u001b[0;34m\u001b[0m\u001b[0m\n\u001b[0m\u001b[1;32m     15\u001b[0m \u001b[0;34m\u001b[0m\u001b[0m\n\u001b[1;32m     16\u001b[0m \u001b[0;32mwith\u001b[0m \u001b[0mopen\u001b[0m\u001b[0;34m(\u001b[0m\u001b[0mexport_path\u001b[0m\u001b[0;34m,\u001b[0m \u001b[0;34m'w+'\u001b[0m\u001b[0;34m)\u001b[0m \u001b[0;32mas\u001b[0m \u001b[0mfh\u001b[0m\u001b[0;34m:\u001b[0m\u001b[0;34m\u001b[0m\u001b[0m\n",
      "\u001b[0;32m/home/steven/.local/lib/python2.7/site-packages/nbconvert/exporters/templateexporter.pyc\u001b[0m in \u001b[0;36mfrom_notebook_node\u001b[0;34m(self, nb, resources, **kw)\u001b[0m\n\u001b[1;32m    305\u001b[0m           \u001b[0mpreprocessors\u001b[0m \u001b[0;32mand\u001b[0m \u001b[0mfilters\u001b[0m\u001b[0;34m.\u001b[0m\u001b[0;34m\u001b[0m\u001b[0m\n\u001b[1;32m    306\u001b[0m         \"\"\"\n\u001b[0;32m--> 307\u001b[0;31m         \u001b[0mnb_copy\u001b[0m\u001b[0;34m,\u001b[0m \u001b[0mresources\u001b[0m \u001b[0;34m=\u001b[0m \u001b[0msuper\u001b[0m\u001b[0;34m(\u001b[0m\u001b[0mTemplateExporter\u001b[0m\u001b[0;34m,\u001b[0m \u001b[0mself\u001b[0m\u001b[0;34m)\u001b[0m\u001b[0;34m.\u001b[0m\u001b[0mfrom_notebook_node\u001b[0m\u001b[0;34m(\u001b[0m\u001b[0mnb\u001b[0m\u001b[0;34m,\u001b[0m \u001b[0mresources\u001b[0m\u001b[0;34m,\u001b[0m \u001b[0;34m**\u001b[0m\u001b[0mkw\u001b[0m\u001b[0;34m)\u001b[0m\u001b[0;34m\u001b[0m\u001b[0m\n\u001b[0m\u001b[1;32m    308\u001b[0m         \u001b[0mresources\u001b[0m\u001b[0;34m.\u001b[0m\u001b[0msetdefault\u001b[0m\u001b[0;34m(\u001b[0m\u001b[0;34m'raw_mimetypes'\u001b[0m\u001b[0;34m,\u001b[0m \u001b[0mself\u001b[0m\u001b[0;34m.\u001b[0m\u001b[0mraw_mimetypes\u001b[0m\u001b[0;34m)\u001b[0m\u001b[0;34m\u001b[0m\u001b[0m\n\u001b[1;32m    309\u001b[0m         resources['global_content_filter'] = {\n",
      "\u001b[0;32m/home/steven/.local/lib/python2.7/site-packages/nbconvert/exporters/exporter.pyc\u001b[0m in \u001b[0;36mfrom_notebook_node\u001b[0;34m(self, nb, resources, **kw)\u001b[0m\n\u001b[1;32m    137\u001b[0m \u001b[0;34m\u001b[0m\u001b[0m\n\u001b[1;32m    138\u001b[0m         \u001b[0;31m# Preprocess\u001b[0m\u001b[0;34m\u001b[0m\u001b[0;34m\u001b[0m\u001b[0m\n\u001b[0;32m--> 139\u001b[0;31m         \u001b[0mnb_copy\u001b[0m\u001b[0;34m,\u001b[0m \u001b[0mresources\u001b[0m \u001b[0;34m=\u001b[0m \u001b[0mself\u001b[0m\u001b[0;34m.\u001b[0m\u001b[0m_preprocess\u001b[0m\u001b[0;34m(\u001b[0m\u001b[0mnb_copy\u001b[0m\u001b[0;34m,\u001b[0m \u001b[0mresources\u001b[0m\u001b[0;34m)\u001b[0m\u001b[0;34m\u001b[0m\u001b[0m\n\u001b[0m\u001b[1;32m    140\u001b[0m \u001b[0;34m\u001b[0m\u001b[0m\n\u001b[1;32m    141\u001b[0m         \u001b[0;32mreturn\u001b[0m \u001b[0mnb_copy\u001b[0m\u001b[0;34m,\u001b[0m \u001b[0mresources\u001b[0m\u001b[0;34m\u001b[0m\u001b[0m\n",
      "\u001b[0;32m/home/steven/.local/lib/python2.7/site-packages/nbconvert/exporters/exporter.pyc\u001b[0m in \u001b[0;36m_preprocess\u001b[0;34m(self, nb, resources)\u001b[0m\n\u001b[1;32m    314\u001b[0m         \u001b[0;31m#to each preprocessor\u001b[0m\u001b[0;34m\u001b[0m\u001b[0;34m\u001b[0m\u001b[0m\n\u001b[1;32m    315\u001b[0m         \u001b[0;32mfor\u001b[0m \u001b[0mpreprocessor\u001b[0m \u001b[0;32min\u001b[0m \u001b[0mself\u001b[0m\u001b[0;34m.\u001b[0m\u001b[0m_preprocessors\u001b[0m\u001b[0;34m:\u001b[0m\u001b[0;34m\u001b[0m\u001b[0m\n\u001b[0;32m--> 316\u001b[0;31m             \u001b[0mnbc\u001b[0m\u001b[0;34m,\u001b[0m \u001b[0mresc\u001b[0m \u001b[0;34m=\u001b[0m \u001b[0mpreprocessor\u001b[0m\u001b[0;34m(\u001b[0m\u001b[0mnbc\u001b[0m\u001b[0;34m,\u001b[0m \u001b[0mresc\u001b[0m\u001b[0;34m)\u001b[0m\u001b[0;34m\u001b[0m\u001b[0m\n\u001b[0m\u001b[1;32m    317\u001b[0m             \u001b[0;32mtry\u001b[0m\u001b[0;34m:\u001b[0m\u001b[0;34m\u001b[0m\u001b[0m\n\u001b[1;32m    318\u001b[0m                 \u001b[0mnbformat\u001b[0m\u001b[0;34m.\u001b[0m\u001b[0mvalidate\u001b[0m\u001b[0;34m(\u001b[0m\u001b[0mnbc\u001b[0m\u001b[0;34m,\u001b[0m \u001b[0mrelax_add_props\u001b[0m\u001b[0;34m=\u001b[0m\u001b[0mTrue\u001b[0m\u001b[0;34m)\u001b[0m\u001b[0;34m\u001b[0m\u001b[0m\n",
      "\u001b[0;32m/home/steven/.local/lib/python2.7/site-packages/nbconvert/preprocessors/coalescestreams.pyc\u001b[0m in \u001b[0;36mwrappedfunc\u001b[0;34m(nb, resources)\u001b[0m\n\u001b[1;32m     27\u001b[0m                 \u001b[0;34m\"Applying preprocessor: %s\"\u001b[0m\u001b[0;34m,\u001b[0m \u001b[0mfunction\u001b[0m\u001b[0;34m.\u001b[0m\u001b[0m__name__\u001b[0m\u001b[0;34m\u001b[0m\u001b[0m\n\u001b[1;32m     28\u001b[0m             )\n\u001b[0;32m---> 29\u001b[0;31m         \u001b[0;32mfor\u001b[0m \u001b[0mindex\u001b[0m\u001b[0;34m,\u001b[0m \u001b[0mcell\u001b[0m \u001b[0;32min\u001b[0m \u001b[0menumerate\u001b[0m\u001b[0;34m(\u001b[0m\u001b[0mnb\u001b[0m\u001b[0;34m.\u001b[0m\u001b[0mcells\u001b[0m\u001b[0;34m)\u001b[0m\u001b[0;34m:\u001b[0m\u001b[0;34m\u001b[0m\u001b[0m\n\u001b[0m\u001b[1;32m     30\u001b[0m             \u001b[0mnb\u001b[0m\u001b[0;34m.\u001b[0m\u001b[0mcells\u001b[0m\u001b[0;34m[\u001b[0m\u001b[0mindex\u001b[0m\u001b[0;34m]\u001b[0m\u001b[0;34m,\u001b[0m \u001b[0mresources\u001b[0m \u001b[0;34m=\u001b[0m \u001b[0mfunction\u001b[0m\u001b[0;34m(\u001b[0m\u001b[0mcell\u001b[0m\u001b[0;34m,\u001b[0m \u001b[0mresources\u001b[0m\u001b[0;34m,\u001b[0m \u001b[0mindex\u001b[0m\u001b[0;34m)\u001b[0m\u001b[0;34m\u001b[0m\u001b[0m\n\u001b[1;32m     31\u001b[0m         \u001b[0;32mreturn\u001b[0m \u001b[0mnb\u001b[0m\u001b[0;34m,\u001b[0m \u001b[0mresources\u001b[0m\u001b[0;34m\u001b[0m\u001b[0m\n",
      "\u001b[0;32m/home/steven/.local/lib/python2.7/site-packages/ipython_genutils/ipstruct.pyc\u001b[0m in \u001b[0;36m__getattr__\u001b[0;34m(self, key)\u001b[0m\n\u001b[1;32m    132\u001b[0m             \u001b[0mresult\u001b[0m \u001b[0;34m=\u001b[0m \u001b[0mself\u001b[0m\u001b[0;34m[\u001b[0m\u001b[0mkey\u001b[0m\u001b[0;34m]\u001b[0m\u001b[0;34m\u001b[0m\u001b[0m\n\u001b[1;32m    133\u001b[0m         \u001b[0;32mexcept\u001b[0m \u001b[0mKeyError\u001b[0m\u001b[0;34m:\u001b[0m\u001b[0;34m\u001b[0m\u001b[0m\n\u001b[0;32m--> 134\u001b[0;31m             \u001b[0;32mraise\u001b[0m \u001b[0mAttributeError\u001b[0m\u001b[0;34m(\u001b[0m\u001b[0mkey\u001b[0m\u001b[0;34m)\u001b[0m\u001b[0;34m\u001b[0m\u001b[0m\n\u001b[0m\u001b[1;32m    135\u001b[0m         \u001b[0;32melse\u001b[0m\u001b[0;34m:\u001b[0m\u001b[0;34m\u001b[0m\u001b[0m\n\u001b[1;32m    136\u001b[0m             \u001b[0;32mreturn\u001b[0m \u001b[0mresult\u001b[0m\u001b[0;34m\u001b[0m\u001b[0m\n",
      "\u001b[0;31mAttributeError\u001b[0m: cells"
     ]
    }
   ],
   "source": []
  },
  {
   "cell_type": "code",
   "execution_count": null,
   "metadata": {},
   "outputs": [],
   "source": []
  }
 ],
 "metadata": {
  "kernelspec": {
   "display_name": "Python 2",
   "language": "python",
   "name": "python2"
  },
  "language_info": {
   "codemirror_mode": {
    "name": "ipython",
    "version": 2
   },
   "file_extension": ".py",
   "mimetype": "text/x-python",
   "name": "python",
   "nbconvert_exporter": "python",
   "pygments_lexer": "ipython2",
   "version": "2.7.16"
  }
 },
 "nbformat": 4,
 "nbformat_minor": 2
}
