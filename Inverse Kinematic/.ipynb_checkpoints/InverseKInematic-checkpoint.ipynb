{
 "cells": [
  {
   "cell_type": "code",
   "execution_count": 1,
   "metadata": {},
   "outputs": [
    {
     "name": "stdout",
     "output_type": "stream",
     "text": [
      "WARNING:tensorflow:\n",
      "The TensorFlow contrib module will not be included in TensorFlow 2.0.\n",
      "For more information, please see:\n",
      "  * https://github.com/tensorflow/community/blob/master/rfcs/20180907-contrib-sunset.md\n",
      "  * https://github.com/tensorflow/addons\n",
      "  * https://github.com/tensorflow/io (for I/O related ops)\n",
      "If you depend on functionality not listed there, please file an issue.\n",
      "\n",
      "WARNING:tensorflow:From ./sketchModel/sketch_pix2seq_train.py:20: The name tf.logging.set_verbosity is deprecated. Please use tf.compat.v1.logging.set_verbosity instead.\n",
      "\n",
      "WARNING:tensorflow:From ./sketchModel/sketch_pix2seq_train.py:20: The name tf.logging.INFO is deprecated. Please use tf.compat.v1.logging.INFO instead.\n",
      "\n"
     ]
    }
   ],
   "source": [
    "import ikpy\n",
    "import sys\n",
    "import numpy as np\n",
    "from ikpy import plot_utils\n",
    "from os.path import abspath\n",
    "from pypot.creatures import PoppyTorso\n",
    "\n",
    "sys.path.append('./sketchModel')\n",
    "from sketch_pix2seq_sampling import getAbsoluteStrokes,drawAbsolutePosition"
   ]
  },
  {
   "cell_type": "code",
   "execution_count": 2,
   "metadata": {},
   "outputs": [],
   "source": [
    "#scene_path = abspath('./vrep-sensors/torso_sensors_scene.ttt')\n",
    "#config_path = abspath('./vrep-sensors/torso_vrep_sensors_config.json')\n",
    "config_path = abspath('./config/torso_config_cam01.json')\n",
    "#poppy = PoppyTorso(simulator='vrep', scene=scene_path, config=config_path)\n",
    "poppy = PoppyTorso(config=config_path)"
   ]
  },
  {
   "cell_type": "code",
   "execution_count": 3,
   "metadata": {},
   "outputs": [
    {
     "name": "stdout",
     "output_type": "stream",
     "text": [
      "abs_z\n",
      "bust_y\n",
      "bust_x\n",
      "head_z\n",
      "head_y\n",
      "l_shoulder_y\n",
      "l_shoulder_x\n",
      "l_arm_z\n",
      "l_elbow_y\n",
      "r_shoulder_y\n",
      "r_shoulder_x\n",
      "r_arm_z\n",
      "r_elbow_y\n"
     ]
    }
   ],
   "source": [
    "for motor in poppy.motors:\n",
    "    print(motor.name)\n",
    "    motor.compliant = False\n",
    "    motor.goto_position(0, 0)"
   ]
  },
  {
   "cell_type": "code",
   "execution_count": 21,
   "metadata": {},
   "outputs": [],
   "source": [
    "poppy.r_elbow_y.goto_position(10.9,5.9)\n",
    "poppy.r_arm_z.goto_position(-45,0.5) #Angle, Time"
   ]
  },
  {
   "cell_type": "code",
   "execution_count": 22,
   "metadata": {},
   "outputs": [
    {
     "name": "stdout",
     "output_type": "stream",
     "text": [
      "WARNING:tensorflow:From ./sketchModel/sketch_pix2seq_sampling.py:119: The name tf.gfile.Open is deprecated. Please use tf.io.gfile.GFile instead.\n",
      "\n"
     ]
    },
    {
     "name": "stderr",
     "output_type": "stream",
     "text": [
      "WARNING:tensorflow:From ./sketchModel/sketch_pix2seq_sampling.py:119: The name tf.gfile.Open is deprecated. Please use tf.io.gfile.GFile instead.\n",
      "\n"
     ]
    },
    {
     "name": "stdout",
     "output_type": "stream",
     "text": [
      "model_params.max_seq_len 129.\n",
      "WARNING:tensorflow:From ./sketchModel/sketch_pix2seq_train.py:51: The name tf.get_default_session is deprecated. Please use tf.compat.v1.get_default_session instead.\n",
      "\n"
     ]
    },
    {
     "name": "stderr",
     "output_type": "stream",
     "text": [
      "WARNING:tensorflow:From ./sketchModel/sketch_pix2seq_train.py:51: The name tf.get_default_session is deprecated. Please use tf.compat.v1.get_default_session instead.\n",
      "\n"
     ]
    },
    {
     "name": "stdout",
     "output_type": "stream",
     "text": [
      "WARNING:tensorflow:From ./sketchModel/sketch_pix2seq_train.py:54: The name tf.reset_default_graph is deprecated. Please use tf.compat.v1.reset_default_graph instead.\n",
      "\n"
     ]
    },
    {
     "name": "stderr",
     "output_type": "stream",
     "text": [
      "WARNING:tensorflow:From ./sketchModel/sketch_pix2seq_train.py:54: The name tf.reset_default_graph is deprecated. Please use tf.compat.v1.reset_default_graph instead.\n",
      "\n"
     ]
    },
    {
     "name": "stdout",
     "output_type": "stream",
     "text": [
      "WARNING:tensorflow:From ./sketchModel/model.py:61: The name tf.variable_scope is deprecated. Please use tf.compat.v1.variable_scope instead.\n",
      "\n"
     ]
    },
    {
     "name": "stderr",
     "output_type": "stream",
     "text": [
      "WARNING:tensorflow:From ./sketchModel/model.py:61: The name tf.variable_scope is deprecated. Please use tf.compat.v1.variable_scope instead.\n",
      "\n"
     ]
    },
    {
     "name": "stdout",
     "output_type": "stream",
     "text": [
      "----------------------------------------------------------------------------------------------------\n",
      "is_training: True\n",
      "Model using gpu.\n",
      "Input dropout mode = False.\n",
      "Output dropout mode = False.\n",
      "Recurrent dropout mode = True.\n",
      "WARNING:tensorflow:From ./sketchModel/model.py:170: The name tf.placeholder is deprecated. Please use tf.compat.v1.placeholder instead.\n",
      "\n"
     ]
    },
    {
     "name": "stderr",
     "output_type": "stream",
     "text": [
      "WARNING:tensorflow:From ./sketchModel/model.py:170: The name tf.placeholder is deprecated. Please use tf.compat.v1.placeholder instead.\n",
      "\n"
     ]
    },
    {
     "name": "stdout",
     "output_type": "stream",
     "text": [
      "WARNING:tensorflow:From ./sketchModel/model.py:91: The name tf.get_variable is deprecated. Please use tf.compat.v1.get_variable instead.\n",
      "\n"
     ]
    },
    {
     "name": "stderr",
     "output_type": "stream",
     "text": [
      "WARNING:tensorflow:From ./sketchModel/model.py:91: The name tf.get_variable is deprecated. Please use tf.compat.v1.get_variable instead.\n",
      "\n"
     ]
    },
    {
     "name": "stdout",
     "output_type": "stream",
     "text": [
      "WARNING:tensorflow:From /home/steven/anaconda2/lib/python2.7/site-packages/tensorflow/python/ops/init_ops.py:1251: calling __init__ (from tensorflow.python.ops.init_ops) with dtype is deprecated and will be removed in a future version.\n",
      "Instructions for updating:\n",
      "Call initializer instance with the dtype argument instead of passing it to the constructor\n"
     ]
    },
    {
     "name": "stderr",
     "output_type": "stream",
     "text": [
      "WARNING:tensorflow:From /home/steven/anaconda2/lib/python2.7/site-packages/tensorflow/python/ops/init_ops.py:1251: calling __init__ (from tensorflow.python.ops.init_ops) with dtype is deprecated and will be removed in a future version.\n",
      "Instructions for updating:\n",
      "Call initializer instance with the dtype argument instead of passing it to the constructor\n"
     ]
    },
    {
     "name": "stdout",
     "output_type": "stream",
     "text": [
      "WARNING:tensorflow:From ./sketchModel/model.py:233: dynamic_rnn (from tensorflow.python.ops.rnn) is deprecated and will be removed in a future version.\n",
      "Instructions for updating:\n",
      "Please use `keras.layers.RNN(cell)`, which is equivalent to this API\n"
     ]
    },
    {
     "name": "stderr",
     "output_type": "stream",
     "text": [
      "WARNING:tensorflow:From ./sketchModel/model.py:233: dynamic_rnn (from tensorflow.python.ops.rnn) is deprecated and will be removed in a future version.\n",
      "Instructions for updating:\n",
      "Please use `keras.layers.RNN(cell)`, which is equivalent to this API\n"
     ]
    },
    {
     "name": "stdout",
     "output_type": "stream",
     "text": [
      "WARNING:tensorflow:From ./sketchModel/rnn.py:488: calling dropout (from tensorflow.python.ops.nn_ops) with keep_prob is deprecated and will be removed in a future version.\n",
      "Instructions for updating:\n",
      "Please use `rate` instead of `keep_prob`. Rate should be set to `rate = 1 - keep_prob`.\n"
     ]
    },
    {
     "name": "stderr",
     "output_type": "stream",
     "text": [
      "WARNING:tensorflow:From ./sketchModel/rnn.py:488: calling dropout (from tensorflow.python.ops.nn_ops) with keep_prob is deprecated and will be removed in a future version.\n",
      "Instructions for updating:\n",
      "Please use `rate` instead of `keep_prob`. Rate should be set to `rate = 1 - keep_prob`.\n"
     ]
    },
    {
     "name": "stdout",
     "output_type": "stream",
     "text": [
      "WARNING:tensorflow:From ./sketchModel/model.py:236: The name tf.nn.xw_plus_b is deprecated. Please use tf.compat.v1.nn.xw_plus_b instead.\n",
      "\n"
     ]
    },
    {
     "name": "stderr",
     "output_type": "stream",
     "text": [
      "WARNING:tensorflow:From ./sketchModel/model.py:236: The name tf.nn.xw_plus_b is deprecated. Please use tf.compat.v1.nn.xw_plus_b instead.\n",
      "\n"
     ]
    },
    {
     "name": "stdout",
     "output_type": "stream",
     "text": [
      "WARNING:tensorflow:From ./sketchModel/model.py:246: div (from tensorflow.python.ops.math_ops) is deprecated and will be removed in a future version.\n",
      "Instructions for updating:\n",
      "Deprecated in favor of operator or tf.math.divide.\n"
     ]
    },
    {
     "name": "stderr",
     "output_type": "stream",
     "text": [
      "WARNING:tensorflow:From ./sketchModel/model.py:246: div (from tensorflow.python.ops.math_ops) is deprecated and will be removed in a future version.\n",
      "Instructions for updating:\n",
      "Deprecated in favor of operator or tf.math.divide.\n"
     ]
    },
    {
     "name": "stdout",
     "output_type": "stream",
     "text": [
      "WARNING:tensorflow:From ./sketchModel/model.py:265: calling reduce_sum_v1 (from tensorflow.python.ops.math_ops) with keep_dims is deprecated and will be removed in a future version.\n",
      "Instructions for updating:\n",
      "keep_dims is deprecated, use keepdims instead\n"
     ]
    },
    {
     "name": "stderr",
     "output_type": "stream",
     "text": [
      "WARNING:tensorflow:From ./sketchModel/model.py:265: calling reduce_sum_v1 (from tensorflow.python.ops.math_ops) with keep_dims is deprecated and will be removed in a future version.\n",
      "Instructions for updating:\n",
      "keep_dims is deprecated, use keepdims instead\n"
     ]
    },
    {
     "name": "stdout",
     "output_type": "stream",
     "text": [
      "WARNING:tensorflow:From ./sketchModel/model.py:275: softmax_cross_entropy_with_logits (from tensorflow.python.ops.nn_ops) is deprecated and will be removed in a future version.\n",
      "Instructions for updating:\n",
      "\n",
      "Future major versions of TensorFlow will allow gradients to flow\n",
      "into the labels input on backprop by default.\n",
      "\n",
      "See `tf.nn.softmax_cross_entropy_with_logits_v2`.\n",
      "\n"
     ]
    },
    {
     "name": "stderr",
     "output_type": "stream",
     "text": [
      "WARNING:tensorflow:From ./sketchModel/model.py:275: softmax_cross_entropy_with_logits (from tensorflow.python.ops.nn_ops) is deprecated and will be removed in a future version.\n",
      "Instructions for updating:\n",
      "\n",
      "Future major versions of TensorFlow will allow gradients to flow\n",
      "into the labels input on backprop by default.\n",
      "\n",
      "See `tf.nn.softmax_cross_entropy_with_logits_v2`.\n",
      "\n"
     ]
    },
    {
     "name": "stdout",
     "output_type": "stream",
     "text": [
      "WARNING:tensorflow:From ./sketchModel/model.py:331: The name tf.train.AdamOptimizer is deprecated. Please use tf.compat.v1.train.AdamOptimizer instead.\n",
      "\n"
     ]
    },
    {
     "name": "stderr",
     "output_type": "stream",
     "text": [
      "WARNING:tensorflow:From ./sketchModel/model.py:331: The name tf.train.AdamOptimizer is deprecated. Please use tf.compat.v1.train.AdamOptimizer instead.\n",
      "\n"
     ]
    },
    {
     "name": "stdout",
     "output_type": "stream",
     "text": [
      "----------------------------------------------------------------------------------------------------\n",
      "is_training: 0\n",
      "Model using gpu.\n",
      "Input dropout mode = 0.\n",
      "Output dropout mode = 0.\n",
      "Recurrent dropout mode = 0.\n",
      "----------------------------------------------------------------------------------------------------\n",
      "is_training: 0\n",
      "Model using gpu.\n",
      "Input dropout mode = 0.\n",
      "Output dropout mode = 0.\n",
      "Recurrent dropout mode = 0.\n",
      "WARNING:tensorflow:From ./sketchModel/sketch_pix2seq_train.py:278: The name tf.train.Saver is deprecated. Please use tf.compat.v1.train.Saver instead.\n",
      "\n"
     ]
    },
    {
     "name": "stderr",
     "output_type": "stream",
     "text": [
      "WARNING:tensorflow:From ./sketchModel/sketch_pix2seq_train.py:278: The name tf.train.Saver is deprecated. Please use tf.compat.v1.train.Saver instead.\n",
      "\n"
     ]
    },
    {
     "name": "stdout",
     "output_type": "stream",
     "text": [
      "Loading model ./sketchModel/outputs/snapshot/vector-11100\n",
      "WARNING:tensorflow:From /home/steven/anaconda2/lib/python2.7/site-packages/tensorflow/python/training/saver.py:1276: checkpoint_exists (from tensorflow.python.training.checkpoint_management) is deprecated and will be removed in a future version.\n",
      "Instructions for updating:\n",
      "Use standard file APIs to check for files with this prefix.\n"
     ]
    },
    {
     "name": "stderr",
     "output_type": "stream",
     "text": [
      "WARNING:tensorflow:From /home/steven/anaconda2/lib/python2.7/site-packages/tensorflow/python/training/saver.py:1276: checkpoint_exists (from tensorflow.python.training.checkpoint_management) is deprecated and will be removed in a future version.\n",
      "Instructions for updating:\n",
      "Use standard file APIs to check for files with this prefix.\n"
     ]
    },
    {
     "name": "stdout",
     "output_type": "stream",
     "text": [
      "INFO:tensorflow:Restoring parameters from ./sketchModel/outputs/snapshot/vector-11100\n"
     ]
    },
    {
     "name": "stderr",
     "output_type": "stream",
     "text": [
      "INFO:tensorflow:Restoring parameters from ./sketchModel/outputs/snapshot/vector-11100\n"
     ]
    },
    {
     "name": "stdout",
     "output_type": "stream",
     "text": [
      "[[36.46060795 35.66799084  0.        ]\n",
      " [36.16306213 35.70672755  0.        ]\n",
      " [35.59534273 35.58233961  0.        ]\n",
      " [34.97678635 35.19941756  0.        ]\n",
      " [34.64892694 34.83621019  0.        ]\n",
      " [34.38859034 34.35215121  0.        ]\n",
      " [34.16848636 33.27085775  0.        ]\n",
      " [34.24396957 32.27585363  0.        ]\n",
      " [34.50896795 31.69019788  0.        ]\n",
      " [34.9558215  31.20079919  0.        ]\n",
      " [35.59823041 30.85139197  0.        ]\n",
      " [36.3821132  30.66251428  0.        ]\n",
      " [37.28360461 30.66289906  0.        ]\n",
      " [38.05626135 30.84678775  0.        ]\n",
      " [38.7720307  31.20579597  0.        ]\n",
      " [39.3699389  31.69439116  0.        ]\n",
      " [39.82005401 32.2646946   0.        ]\n",
      " [40.11585863 32.89553913  0.        ]\n",
      " [40.20478673 33.37925204  0.        ]\n",
      " [40.16033818 33.84673956  0.        ]\n",
      " [39.94616921 34.26883253  0.        ]\n",
      " [39.58041306 34.6499792   0.        ]\n",
      " [38.48994823 35.28496423  0.        ]\n",
      " [37.20870955 35.6951161   0.        ]\n",
      " [36.35947962 35.80168376  0.        ]\n",
      " [35.63412155 35.7595286   1.        ]\n",
      " [34.97603537 35.22561308  0.        ]\n",
      " [35.26767333 36.57380589  0.        ]\n",
      " [35.59310757 37.44434603  0.        ]\n",
      " [35.82154994 37.80158901  0.        ]\n",
      " [35.94873975 37.77558483  0.        ]\n",
      " [36.48611091 36.50791897  0.        ]\n",
      " [36.73136249 36.14614354  1.        ]\n",
      " [38.65051284 35.27486746  0.        ]\n",
      " [40.01064578 35.88142376  0.        ]\n",
      " [40.72915331 36.3342088   0.        ]\n",
      " [40.78404596 36.04197671  0.        ]\n",
      " [40.51290727 34.86688222  0.        ]\n",
      " [40.27055104 34.37176977  0.        ]\n",
      " [40.09192464 34.22673527  1.        ]\n",
      " [36.00276467 33.95201394  0.        ]\n",
      " [35.99241188 33.74486652  0.        ]\n",
      " [36.13050855 33.66416206  0.        ]\n",
      " [36.25873328 33.88575467  0.        ]\n",
      " [36.14799448 33.97313876  0.        ]\n",
      " [36.02285941 33.95123888  0.        ]\n",
      " [35.97283259 33.82612353  0.        ]\n",
      " [36.09063866 33.79896667  0.        ]\n",
      " [36.09893701 33.89315688  0.        ]\n",
      " [36.0337595  33.84639632  0.        ]\n",
      " [36.16405877 33.82503093  0.        ]\n",
      " [36.13137286 33.87825656  0.        ]\n",
      " [36.07465481 33.79427557  0.        ]\n",
      " [36.20734793 33.81932495  0.        ]\n",
      " [36.24710686 33.94137528  0.        ]\n",
      " [36.11459349 33.88510282  0.        ]\n",
      " [36.21788232 33.83848246  0.        ]\n",
      " [36.32473238 33.92957346  0.        ]\n",
      " [36.23353365 33.98195415  0.        ]\n",
      " [36.1795734  33.88700574  0.        ]\n",
      " [36.31787516 33.8683312   0.        ]\n",
      " [36.38035891 33.97754556  0.        ]\n",
      " [36.21727758 33.93323416  0.        ]\n",
      " [36.30143342 33.86701781  0.        ]\n",
      " [36.43988048 33.92130877  0.        ]\n",
      " [36.40285662 34.00633978  0.        ]\n",
      " [36.25266793 34.02079479  0.        ]\n",
      " [36.1542955  33.93579538  0.        ]\n",
      " [36.16754393 33.81615628  0.        ]\n",
      " [36.33295114 33.8110682   0.        ]\n",
      " [36.38418581 33.94647055  0.        ]\n",
      " [36.28771296 34.01298793  0.        ]\n",
      " [36.15846448 33.97829296  0.        ]\n",
      " [36.11138795 33.85169285  0.        ]\n",
      " [36.28352004 33.79701106  0.        ]\n",
      " [36.37527294 33.89347516  0.        ]\n",
      " [36.33578865 33.98665061  0.        ]\n",
      " [36.20856802 33.99503587  0.        ]\n",
      " [36.11466472 33.89648704  0.        ]\n",
      " [36.12869497 33.77204304  0.        ]\n",
      " [36.29465408 33.78085755  0.        ]\n",
      " [36.35035989 33.91746326  0.        ]\n",
      " [36.20797633 33.88732998  0.        ]\n",
      " [36.283535   33.78588131  0.        ]\n",
      " [36.34787825 33.79368355  0.        ]\n",
      " [36.33034574 33.83744282  0.        ]\n",
      " [36.27019384 33.79286493  0.        ]\n",
      " [36.34013193 33.74490266  0.        ]\n",
      " [36.36045234 33.7598941   0.        ]\n",
      " [36.31646277 33.74863119  0.        ]\n",
      " [36.35262648 33.71428597  0.        ]\n",
      " [36.47740763 33.73378327  0.        ]\n",
      " [36.51342415 33.81996949  0.        ]\n",
      " [36.39472077 33.87205449  0.        ]\n",
      " [36.25802814 33.83595679  0.        ]\n",
      " [36.21241695 33.71995924  0.        ]\n",
      " [36.36852732 33.69209456  0.        ]\n",
      " [36.44914154 33.80324623  0.        ]\n",
      " [36.33389054 33.78438725  0.        ]\n",
      " [36.39336091 33.69458665  0.        ]\n",
      " [36.4412683  33.71109479  0.        ]\n",
      " [36.40343435 33.7553355   0.        ]\n",
      " [36.38476807 33.69952007  0.        ]\n",
      " [36.46285004 33.67468444  0.        ]\n",
      " [36.53377631 33.73825678  0.        ]\n",
      " [36.46220375 33.76935403  0.        ]\n",
      " [36.46072497 33.69317329  0.        ]\n",
      " [36.53694202 33.68213682  0.        ]\n",
      " [36.58529034 33.75228619  0.        ]\n",
      " [36.50175762 33.77705429  0.        ]\n",
      " [36.38967142 33.71968525  0.        ]\n",
      " [36.36734986 33.61490801  0.        ]\n",
      " [36.51934616 33.56445424  0.        ]\n",
      " [36.62803062 33.6440597   0.        ]\n",
      " [36.59159928 33.72611273  0.        ]\n",
      " [36.4598357  33.73860182  0.        ]\n",
      " [36.36536382 33.65859853  0.        ]\n",
      " [36.37161861 33.54278451  0.        ]\n",
      " [36.54715638 33.48580517  0.        ]\n",
      " [36.66498209 33.55922331  0.        ]\n",
      " [36.63953538 33.67409836  0.        ]\n",
      " [36.5031251  33.70914926  0.        ]\n",
      " [36.38850245 33.64415258  0.        ]\n",
      " [36.37251285 33.52537265  0.        ]\n",
      " [36.54688587 33.5151015   0.        ]\n",
      " [36.61666693 33.64541029  0.        ]\n",
      " [36.55563461 33.73553846  0.        ]\n",
      " [36.4334234  33.72653659  0.        ]\n",
      " [36.36414997 33.61077128  0.        ]\n",
      " [36.39219208 33.487631    0.        ]]\n"
     ]
    }
   ],
   "source": [
    "strokes = getAbsoluteStrokes('','','./sketchModel/outputs/snapshot','./200.png')"
   ]
  },
  {
   "cell_type": "code",
   "execution_count": 23,
   "metadata": {},
   "outputs": [
    {
     "data": {
      "image/png": "[encoded data removed]",
      "text/plain": [
       "<Figure size 432x288 with 1 Axes>"
      ]
     },
     "metadata": {
      "needs_background": "light"
     },
     "output_type": "display_data"
    }
   ],
   "source": [
    "drawAbsolutePosition(strokes,(0,48,0,48))"
   ]
  },
  {
   "cell_type": "code",
   "execution_count": 24,
   "metadata": {},
   "outputs": [
    {
     "data": {
      "image/png": "[encoded data removed]",
      "text/plain": [
       "<Figure size 432x288 with 1 Axes>"
      ]
     },
     "metadata": {
      "needs_background": "light"
     },
     "output_type": "display_data"
    }
   ],
   "source": [
    "image_size = 0.3\n",
    "def rescaleImage(strokes,init_size,end_size,xFactor, yFactor):\n",
    "    new_stroke = []\n",
    "    for stroke in strokes:\n",
    "        x = end_size/(init_size/stroke[0])\n",
    "        y = end_size/(init_size/stroke[1])\n",
    "        new_stroke.append([x,y,stroke[2]])\n",
    "    new_stroke = np.asarray(new_stroke)\n",
    "    \n",
    "    xMin = np.min(new_stroke[:,0])\n",
    "    xMax = np.max(new_stroke[:,0])\n",
    "\n",
    "    yMin = np.min(new_stroke[:,1])\n",
    "    yMax = np.max(new_stroke[:,1])\n",
    "    \n",
    "    \n",
    "    multiX = end_size/(xMax-xMin)\n",
    "    multiY = end_size/(yMax-yMin)\n",
    "    \n",
    "    new_stroke[:,0] = new_stroke[:,0] * np.floor(multiX)\n",
    "    new_stroke[:,1] = new_stroke[:,1] * np.floor(multiY)\n",
    "    new_stroke = moveImage(new_stroke,xFactor,yFactor)\n",
    "    return new_stroke\n",
    "\n",
    "def moveImage(stroke_rescale, xFactor, yFactor):\n",
    "    xMin = np.min(stroke_rescale[:,0])\n",
    "    yMin = np.min(stroke_rescale[:,1])\n",
    "\n",
    "    stroke_rescale[:,0] = stroke_rescale[:,0] - (xMin * xFactor)\n",
    "    stroke_rescale[:,1] = stroke_rescale[:,1] - (yMin * yFactor)\n",
    "    return stroke_rescale\n",
    "\n",
    "stroke_rescale = rescaleImage(strokes, 48, 0.3,0.98, 0.98)\n",
    "\n",
    "xMin = np.min(stroke_rescale[:,0])\n",
    "xMax = np.max(stroke_rescale[:,0])\n",
    "\n",
    "yMin = np.min(stroke_rescale[:,1])\n",
    "yMax = np.max(stroke_rescale[:,1])\n",
    "    \n",
    "drawAbsolutePosition(stroke_rescale,(0,image_size+0.01,0,image_size+0.01))\n"
   ]
  },
  {
   "cell_type": "code",
   "execution_count": null,
   "metadata": {},
   "outputs": [],
   "source": [
    "'''import numpy as np\n",
    "r = .13\n",
    "x0, y0, z0 = (0.2, -0.2, 0.2)\n",
    "\n",
    "poppy.l_arm_chain.goto((x0, y0, z0), 1., wait=True)\n",
    "\n",
    "\n",
    "for alpha in np.arange(0, 4*np.pi, .08):\n",
    "    x = r * np.cos(alpha) + x0\n",
    "    z = r * np.sin(alpha) + z0\n",
    "    \n",
    "    poppy.l_arm_chain.goto((x, y0, z), 0.03, wait=True)'''"
   ]
  },
  {
   "cell_type": "code",
   "execution_count": 25,
   "metadata": {},
   "outputs": [
    {
     "ename": "KeyboardInterrupt",
     "evalue": "",
     "output_type": "error",
     "traceback": [
      "\u001b[0;31m---------------------------------------------------------------------------\u001b[0m",
      "\u001b[0;31mKeyboardInterrupt\u001b[0m                         Traceback (most recent call last)",
      "\u001b[0;32m<ipython-input-25-ddc67d6c4b63>\u001b[0m in \u001b[0;36m<module>\u001b[0;34m()\u001b[0m\n\u001b[1;32m      8\u001b[0m         \u001b[0mpoppy\u001b[0m\u001b[0;34m.\u001b[0m\u001b[0ml_arm_chain\u001b[0m\u001b[0;34m.\u001b[0m\u001b[0mgoto\u001b[0m\u001b[0;34m(\u001b[0m\u001b[0;34m(\u001b[0m\u001b[0mstroke\u001b[0m\u001b[0;34m[\u001b[0m\u001b[0;36m0\u001b[0m\u001b[0;34m]\u001b[0m\u001b[0;34m,\u001b[0m \u001b[0maxisY\u001b[0m\u001b[0;34m,\u001b[0m \u001b[0mstroke\u001b[0m\u001b[0;34m[\u001b[0m\u001b[0;36m1\u001b[0m\u001b[0;34m]\u001b[0m\u001b[0;34m)\u001b[0m\u001b[0;34m,\u001b[0m \u001b[0;36m0.5\u001b[0m\u001b[0;34m,\u001b[0m \u001b[0mwait\u001b[0m\u001b[0;34m=\u001b[0m\u001b[0mTrue\u001b[0m\u001b[0;34m)\u001b[0m\u001b[0;34m\u001b[0m\u001b[0m\n\u001b[1;32m      9\u001b[0m \u001b[0;34m\u001b[0m\u001b[0m\n\u001b[0;32m---> 10\u001b[0;31m \u001b[0mdrawWithPoppy\u001b[0m\u001b[0;34m(\u001b[0m\u001b[0;34m-\u001b[0m\u001b[0;36m0.15\u001b[0m\u001b[0;34m,\u001b[0m \u001b[0;34m-\u001b[0m\u001b[0;36m0.10\u001b[0m\u001b[0;34m)\u001b[0m\u001b[0;34m\u001b[0m\u001b[0m\n\u001b[0m",
      "\u001b[0;32m<ipython-input-25-ddc67d6c4b63>\u001b[0m in \u001b[0;36mdrawWithPoppy\u001b[0;34m(planeY, withoutDraw)\u001b[0m\n\u001b[1;32m      6\u001b[0m         \u001b[0;32melse\u001b[0m\u001b[0;34m:\u001b[0m\u001b[0;34m\u001b[0m\u001b[0m\n\u001b[1;32m      7\u001b[0m             \u001b[0maxisY\u001b[0m \u001b[0;34m=\u001b[0m \u001b[0mwithoutDraw\u001b[0m\u001b[0;34m\u001b[0m\u001b[0m\n\u001b[0;32m----> 8\u001b[0;31m         \u001b[0mpoppy\u001b[0m\u001b[0;34m.\u001b[0m\u001b[0ml_arm_chain\u001b[0m\u001b[0;34m.\u001b[0m\u001b[0mgoto\u001b[0m\u001b[0;34m(\u001b[0m\u001b[0;34m(\u001b[0m\u001b[0mstroke\u001b[0m\u001b[0;34m[\u001b[0m\u001b[0;36m0\u001b[0m\u001b[0;34m]\u001b[0m\u001b[0;34m,\u001b[0m \u001b[0maxisY\u001b[0m\u001b[0;34m,\u001b[0m \u001b[0mstroke\u001b[0m\u001b[0;34m[\u001b[0m\u001b[0;36m1\u001b[0m\u001b[0;34m]\u001b[0m\u001b[0;34m)\u001b[0m\u001b[0;34m,\u001b[0m \u001b[0;36m0.5\u001b[0m\u001b[0;34m,\u001b[0m \u001b[0mwait\u001b[0m\u001b[0;34m=\u001b[0m\u001b[0mTrue\u001b[0m\u001b[0;34m)\u001b[0m\u001b[0;34m\u001b[0m\u001b[0m\n\u001b[0m\u001b[1;32m      9\u001b[0m \u001b[0;34m\u001b[0m\u001b[0m\n\u001b[1;32m     10\u001b[0m \u001b[0mdrawWithPoppy\u001b[0m\u001b[0;34m(\u001b[0m\u001b[0;34m-\u001b[0m\u001b[0;36m0.15\u001b[0m\u001b[0;34m,\u001b[0m \u001b[0;34m-\u001b[0m\u001b[0;36m0.10\u001b[0m\u001b[0;34m)\u001b[0m\u001b[0;34m\u001b[0m\u001b[0m\n",
      "\u001b[0;32m/home/steven/anaconda2/lib/python2.7/site-packages/pypot-3.1.0-py2.7.egg/pypot/creatures/ik.pyc\u001b[0m in \u001b[0;36mgoto\u001b[0;34m(self, position, duration, wait, accurate)\u001b[0m\n\u001b[1;32m     75\u001b[0m         \u001b[0mM\u001b[0m \u001b[0;34m=\u001b[0m \u001b[0meye\u001b[0m\u001b[0;34m(\u001b[0m\u001b[0;36m4\u001b[0m\u001b[0;34m)\u001b[0m\u001b[0;34m\u001b[0m\u001b[0m\n\u001b[1;32m     76\u001b[0m         \u001b[0mM\u001b[0m\u001b[0;34m[\u001b[0m\u001b[0;34m:\u001b[0m\u001b[0;36m3\u001b[0m\u001b[0;34m,\u001b[0m \u001b[0;36m3\u001b[0m\u001b[0;34m]\u001b[0m \u001b[0;34m=\u001b[0m \u001b[0mposition\u001b[0m\u001b[0;34m\u001b[0m\u001b[0m\n\u001b[0;32m---> 77\u001b[0;31m         \u001b[0mself\u001b[0m\u001b[0;34m.\u001b[0m\u001b[0m_goto\u001b[0m\u001b[0;34m(\u001b[0m\u001b[0mM\u001b[0m\u001b[0;34m,\u001b[0m \u001b[0mduration\u001b[0m\u001b[0;34m,\u001b[0m \u001b[0mwait\u001b[0m\u001b[0;34m,\u001b[0m \u001b[0maccurate\u001b[0m\u001b[0;34m)\u001b[0m\u001b[0;34m\u001b[0m\u001b[0m\n\u001b[0m\u001b[1;32m     78\u001b[0m \u001b[0;34m\u001b[0m\u001b[0m\n\u001b[1;32m     79\u001b[0m     \u001b[0;32mdef\u001b[0m \u001b[0m_goto\u001b[0m\u001b[0;34m(\u001b[0m\u001b[0mself\u001b[0m\u001b[0;34m,\u001b[0m \u001b[0mpose\u001b[0m\u001b[0;34m,\u001b[0m \u001b[0mduration\u001b[0m\u001b[0;34m,\u001b[0m \u001b[0mwait\u001b[0m\u001b[0;34m,\u001b[0m \u001b[0maccurate\u001b[0m\u001b[0;34m)\u001b[0m\u001b[0;34m:\u001b[0m\u001b[0;34m\u001b[0m\u001b[0m\n",
      "\u001b[0;32m/home/steven/anaconda2/lib/python2.7/site-packages/pypot-3.1.0-py2.7.egg/pypot/creatures/ik.pyc\u001b[0m in \u001b[0;36m_goto\u001b[0;34m(self, pose, duration, wait, accurate)\u001b[0m\n\u001b[1;32m     99\u001b[0m         \u001b[0;32mfor\u001b[0m \u001b[0mm\u001b[0m\u001b[0;34m,\u001b[0m \u001b[0mpos\u001b[0m \u001b[0;32min\u001b[0m \u001b[0mlist\u001b[0m\u001b[0;34m(\u001b[0m\u001b[0mzip\u001b[0m\u001b[0;34m(\u001b[0m\u001b[0mself\u001b[0m\u001b[0;34m.\u001b[0m\u001b[0mmotors\u001b[0m\u001b[0;34m,\u001b[0m \u001b[0mjoints\u001b[0m\u001b[0;34m)\u001b[0m\u001b[0;34m)\u001b[0m\u001b[0;34m:\u001b[0m\u001b[0;34m\u001b[0m\u001b[0m\n\u001b[1;32m    100\u001b[0m             m.goto_position(pos, duration,\n\u001b[0;32m--> 101\u001b[0;31m                             wait=False if m != last else wait)\n\u001b[0m\u001b[1;32m    102\u001b[0m \u001b[0;34m\u001b[0m\u001b[0m\n\u001b[1;32m    103\u001b[0m     \u001b[0;32mdef\u001b[0m \u001b[0mconvert_to_ik_angles\u001b[0m\u001b[0;34m(\u001b[0m\u001b[0mself\u001b[0m\u001b[0;34m,\u001b[0m \u001b[0mjoints\u001b[0m\u001b[0;34m)\u001b[0m\u001b[0;34m:\u001b[0m\u001b[0;34m\u001b[0m\u001b[0m\n",
      "\u001b[0;32m/home/steven/anaconda2/lib/python2.7/site-packages/pypot-3.1.0-py2.7.egg/pypot/dynamixel/motor.pyc\u001b[0m in \u001b[0;36mgoto_position\u001b[0;34m(self, position, duration, control, wait)\u001b[0m\n\u001b[1;32m    262\u001b[0m \u001b[0;34m\u001b[0m\u001b[0m\n\u001b[1;32m    263\u001b[0m             \u001b[0;32mif\u001b[0m \u001b[0mwait\u001b[0m\u001b[0;34m:\u001b[0m\u001b[0;34m\u001b[0m\u001b[0m\n\u001b[0;32m--> 264\u001b[0;31m                 \u001b[0mtime\u001b[0m\u001b[0;34m.\u001b[0m\u001b[0msleep\u001b[0m\u001b[0;34m(\u001b[0m\u001b[0mduration\u001b[0m\u001b[0;34m)\u001b[0m\u001b[0;34m\u001b[0m\u001b[0m\n\u001b[0m\u001b[1;32m    265\u001b[0m \u001b[0;34m\u001b[0m\u001b[0m\n\u001b[1;32m    266\u001b[0m \u001b[0;34m\u001b[0m\u001b[0m\n",
      "\u001b[0;32m/home/steven/anaconda2/lib/python2.7/site-packages/pypot-3.1.0-py2.7.egg/pypot/utils/pypot_time.pyc\u001b[0m in \u001b[0;36msleep\u001b[0;34m(t)\u001b[0m\n\u001b[1;32m     10\u001b[0m         \u001b[0;32mprint\u001b[0m\u001b[0;34m(\u001b[0m\u001b[0;34m'WARNING: big sleep'\u001b[0m\u001b[0;34m,\u001b[0m \u001b[0mt\u001b[0m\u001b[0;34m)\u001b[0m\u001b[0;34m\u001b[0m\u001b[0m\n\u001b[1;32m     11\u001b[0m         \u001b[0mt\u001b[0m \u001b[0;34m=\u001b[0m \u001b[0;36m0.1\u001b[0m\u001b[0;34m\u001b[0m\u001b[0m\n\u001b[0;32m---> 12\u001b[0;31m     \u001b[0msystem_time\u001b[0m\u001b[0;34m.\u001b[0m\u001b[0msleep\u001b[0m\u001b[0;34m(\u001b[0m\u001b[0mt\u001b[0m\u001b[0;34m)\u001b[0m\u001b[0;34m\u001b[0m\u001b[0m\n\u001b[0m",
      "\u001b[0;31mKeyboardInterrupt\u001b[0m: "
     ]
    }
   ],
   "source": [
    "def drawWithPoppy(planeY, withoutDraw):\n",
    "    axisY = planeY\n",
    "    for stroke in stroke_rescale:\n",
    "        if stroke[2] == 0:\n",
    "            axisY = planeY\n",
    "        else:\n",
    "            axisY = withoutDraw\n",
    "        poppy.l_arm_chain.goto((stroke[0], axisY, stroke[1]), 0.5, wait=True)\n",
    "        \n",
    "drawWithPoppy(-0.15, -0.13)"
   ]
  },
  {
   "cell_type": "code",
   "execution_count": null,
   "metadata": {},
   "outputs": [],
   "source": []
  }
 ],
 "metadata": {
  "kernelspec": {
   "display_name": "Python 2",
   "language": "python",
   "name": "python2"
  },
  "language_info": {
   "codemirror_mode": {
    "name": "ipython",
    "version": 2
   },
   "file_extension": ".py",
   "mimetype": "text/x-python",
   "name": "python",
   "nbconvert_exporter": "python",
   "pygments_lexer": "ipython2",
   "version": "2.7.16"
  }
 },
 "nbformat": 4,
 "nbformat_minor": 2
}
