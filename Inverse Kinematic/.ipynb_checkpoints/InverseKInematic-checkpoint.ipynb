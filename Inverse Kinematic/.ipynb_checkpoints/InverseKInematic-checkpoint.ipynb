{
 "cells": [
  {
   "cell_type": "code",
   "execution_count": 1,
   "metadata": {},
   "outputs": [
    {
     "name": "stdout",
     "output_type": "stream",
     "text": [
      "WARNING:tensorflow:\n",
      "The TensorFlow contrib module will not be included in TensorFlow 2.0.\n",
      "For more information, please see:\n",
      "  * https://github.com/tensorflow/community/blob/master/rfcs/20180907-contrib-sunset.md\n",
      "  * https://github.com/tensorflow/addons\n",
      "  * https://github.com/tensorflow/io (for I/O related ops)\n",
      "If you depend on functionality not listed there, please file an issue.\n",
      "\n",
      "WARNING:tensorflow:From ./sketchModel/sketch_pix2seq_train.py:20: The name tf.logging.set_verbosity is deprecated. Please use tf.compat.v1.logging.set_verbosity instead.\n",
      "\n",
      "WARNING:tensorflow:From ./sketchModel/sketch_pix2seq_train.py:20: The name tf.logging.INFO is deprecated. Please use tf.compat.v1.logging.INFO instead.\n",
      "\n"
     ]
    }
   ],
   "source": [
    "import ikpy\n",
    "import sys\n",
    "import numpy as np\n",
    "from ikpy import plot_utils\n",
    "from os.path import abspath\n",
    "from pypot.creatures import PoppyTorso\n",
    "\n",
    "sys.path.append('./sketchModel')\n",
    "from sketch_pix2seq_sampling import getAbsoluteStrokes,drawAbsolutePosition"
   ]
  },
  {
   "cell_type": "code",
   "execution_count": null,
   "metadata": {},
   "outputs": [],
   "source": [
    "strokes = getAbsoluteStrokes('','','./sketchModel/outputs/snapshot','./200.png')"
   ]
  },
  {
   "cell_type": "code",
   "execution_count": 2,
   "metadata": {},
   "outputs": [],
   "source": [
    "scene_path = abspath('./vrep-sensors/torso_sensors_scene.ttt')\n",
    "config_path = abspath('./vrep-sensors/torso_vrep_sensors_config.json')\n",
    "#config_path = abspath('./config/torso_config_cam01.json')\n",
    "poppy = PoppyTorso(simulator='vrep', scene=scene_path, config=config_path)\n",
    "#poppy = PoppyTorso(config=config_path)"
   ]
  },
  {
   "cell_type": "code",
   "execution_count": null,
   "metadata": {},
   "outputs": [],
   "source": [
    "for motor in poppy.motors:\n",
    "    print(motor.name)\n",
    "    motor.compliant = True\n",
    "    motor.goto_position(0, 3)"
   ]
  },
  {
   "cell_type": "code",
   "execution_count": null,
   "metadata": {},
   "outputs": [],
   "source": [
    "poppy.bust_y.compliant = True"
   ]
  },
  {
   "cell_type": "code",
   "execution_count": null,
   "metadata": {},
   "outputs": [],
   "source": [
    "poppy.r_elbow_y.goto_position(10.9,0.5)\n",
    "poppy.r_arm_z.goto_position(-45,0.5) #Angle, Time"
   ]
  },
  {
   "cell_type": "code",
   "execution_count": null,
   "metadata": {},
   "outputs": [],
   "source": [
    "drawAbsolutePosition(strokes,(0,48,0,48))"
   ]
  },
  {
   "cell_type": "code",
   "execution_count": null,
   "metadata": {},
   "outputs": [],
   "source": [
    "image_size = 0.10\n",
    "def rescaleImage(strokes,init_size,end_size,xFactor, yFactor):\n",
    "    new_stroke = []\n",
    "    for stroke in strokes:\n",
    "        x = end_size/(init_size/stroke[0])\n",
    "        y = end_size/(init_size/stroke[1])\n",
    "        new_stroke.append([x,y,stroke[2]])\n",
    "    new_stroke = np.asarray(new_stroke)\n",
    "    \n",
    "    xMin = np.min(new_stroke[:,0])\n",
    "    xMax = np.max(new_stroke[:,0])\n",
    "\n",
    "    yMin = np.min(new_stroke[:,1])\n",
    "    yMax = np.max(new_stroke[:,1])\n",
    "    \n",
    "    \n",
    "    multiX = end_size/(xMax-xMin)\n",
    "    multiY = end_size/(yMax-yMin)\n",
    "    \n",
    "    new_stroke[:,0] = new_stroke[:,0] * np.floor(multiX)\n",
    "    new_stroke[:,1] = new_stroke[:,1] * np.floor(multiY)\n",
    "    new_stroke = moveImage(new_stroke,xFactor,yFactor)\n",
    "    return new_stroke\n",
    "\n",
    "def moveImage(stroke_rescale, xFactor, yFactor):\n",
    "    xMin = np.min(stroke_rescale[:,0])\n",
    "    yMin = np.min(stroke_rescale[:,1])\n",
    "\n",
    "    stroke_rescale[:,0] = stroke_rescale[:,0] - (xMin * xFactor)\n",
    "    stroke_rescale[:,1] = stroke_rescale[:,1] - (yMin * yFactor)\n",
    "    return stroke_rescale\n",
    "\n",
    "stroke_rescale = rescaleImage(strokes, 48, image_size,0.90, 0.85)\n",
    "\n",
    "xMin = np.min(stroke_rescale[:,0])\n",
    "xMax = np.max(stroke_rescale[:,0])\n",
    "\n",
    "yMin = np.min(stroke_rescale[:,1])\n",
    "yMax = np.max(stroke_rescale[:,1])\n",
    "    \n",
    "drawAbsolutePosition(stroke_rescale,(0,image_size+0.10,0,image_size+0.10))\n"
   ]
  },
  {
   "cell_type": "code",
   "execution_count": null,
   "metadata": {},
   "outputs": [],
   "source": [
    "'''import numpy as np\n",
    "r = .13\n",
    "x0, y0, z0 = (0.2, -0.2, 0.2)\n",
    "\n",
    "poppy.l_arm_chain.goto((x0, y0, z0), 1., wait=True)\n",
    "\n",
    "\n",
    "for alpha in np.arange(0, 4*np.pi, .08):\n",
    "    x = r * np.cos(alpha) + x0\n",
    "    z = r * np.sin(alpha) + z0\n",
    "    \n",
    "    poppy.l_arm_chain.goto((x, y0, z), 0.03, wait=True)'''"
   ]
  },
  {
   "cell_type": "markdown",
   "metadata": {},
   "source": [
    "# Limite de angulos en VREP"
   ]
  },
  {
   "cell_type": "markdown",
   "metadata": {},
   "source": [
    "abs_z = -80, 80 <br>\n",
    "bust_y = -46, 23 <br>\n",
    "bust_x = -40 40 <br>\n",
    "l_shoulder_y = -180, 150 <br>\n",
    "l_shoulder_x = -105, 110 <br>\n",
    "l_arm_z = -70, 90 <br>\n",
    "l_elbow_y = -90, 90"
   ]
  },
  {
   "cell_type": "markdown",
   "metadata": {},
   "source": [
    "# Posición del efector final"
   ]
  },
  {
   "cell_type": "markdown",
   "metadata": {},
   "source": [
    "El calculo del efector final es computado a partir de las articulación de la cadena y la cinematica del robot\n",
    "Representa una posición teorica el cual difiere de la real por imperfecciones del modelo."
   ]
  },
  {
   "cell_type": "code",
   "execution_count": 3,
   "metadata": {},
   "outputs": [],
   "source": [
    "def getEffector():\n",
    "    effector = poppy.l_arm_chain.end_effector\n",
    "    print(\"X : %.6f\" % effector[0] + \", Y : %.6f\" % effector[1] + \", Z : %.6f\" % effector[2])\n",
    "    return effector"
   ]
  },
  {
   "cell_type": "markdown",
   "metadata": {},
   "source": [
    "# Posición de los angulos"
   ]
  },
  {
   "cell_type": "markdown",
   "metadata": {},
   "source": [
    "Representa los valores de la articulación de la cadena expresado en angulos."
   ]
  },
  {
   "cell_type": "code",
   "execution_count": 4,
   "metadata": {},
   "outputs": [],
   "source": [
    "def getDegrees():\n",
    "    nameMotors = [motor.name for motor in poppy.l_arm_chain.motors]\n",
    "    mapped = zip(nameMotors, poppy.l_arm_chain.joints_position)\n",
    "    for motorValue in mapped:\n",
    "        print(motorValue)"
   ]
  },
  {
   "cell_type": "code",
   "execution_count": 5,
   "metadata": {},
   "outputs": [],
   "source": [
    "def goto():\n",
    "    poppy.abs_z.goto_position(0.0,0.5)\n",
    "    poppy.bust_y.goto_position(-0.1,0.5)\n",
    "    poppy.bust_x.goto_position(0.0,0.5)\n",
    "    poppy.l_shoulder_y.goto_position(32.8,0.5)\n",
    "    poppy.l_shoulder_x.goto_position(-0.4000000000000057,0.5)\n",
    "    poppy.l_arm_z.goto_position(-3.8,0.5)\n",
    "    poppy.l_elbow_y.goto_position(-33.7,0.5)\n",
    "def goto2():\n",
    "    poppy.abs_z.goto_position(0.0,0.5)\n",
    "    poppy.bust_y.goto_position(-0.1,0.5)\n",
    "    poppy.bust_x.goto_position(0.0,0.5)\n",
    "    poppy.l_shoulder_y.goto_position(32.599999999999994,0.5)\n",
    "    poppy.l_shoulder_x.goto_position(5.5,0.5)\n",
    "    poppy.l_arm_z.goto_position(17.2,0.5)\n",
    "    poppy.l_elbow_y.goto_position(-31.700000000000003,0.5)"
   ]
  },
  {
   "cell_type": "code",
   "execution_count": 7,
   "metadata": {},
   "outputs": [
    {
     "name": "stdout",
     "output_type": "stream",
     "text": [
      "X diff : -0.008898, Y diff : -0.007311, Z diff : -0.001128\n",
      "X diff : -0.002634, Y diff : -0.002421, Z diff : -0.000014\n",
      "X diff : 0.000263, Y diff : 0.000067, Z diff : -0.000133\n",
      "X diff : 0.000205, Y diff : 0.000008, Z diff : -0.000068\n",
      "X diff : 0.000010, Y diff : -0.000036, Z diff : -0.000040\n",
      "X diff : 0.000216, Y diff : -0.000059, Z diff : 0.000019\n",
      "X diff : 0.000090, Y diff : -0.000112, Z diff : 0.000068\n",
      "X diff : 0.000156, Y diff : 0.000037, Z diff : -0.000098\n",
      "X diff : -0.000038, Y diff : -0.000010, Z diff : -0.000068\n",
      "X diff : 0.000031, Y diff : -0.000017, Z diff : -0.000048\n",
      "X diff : 0.000100, Y diff : -0.000025, Z diff : -0.000028\n",
      "X diff : 0.000169, Y diff : -0.000032, Z diff : -0.000009\n",
      "X diff : -0.000025, Y diff : -0.000080, Z diff : 0.000023\n",
      "X diff : 0.000044, Y diff : -0.000087, Z diff : 0.000043\n",
      "X diff : 0.000041, Y diff : 0.000069, Z diff : -0.000143\n",
      "X diff : 0.000110, Y diff : 0.000061, Z diff : -0.000123\n",
      "X diff : 0.000110, Y diff : 0.000061, Z diff : -0.000123\n",
      "X diff : 0.000110, Y diff : 0.000061, Z diff : -0.000123\n",
      "X diff : 0.000110, Y diff : 0.000061, Z diff : -0.000123\n",
      "X diff : 0.000110, Y diff : 0.000061, Z diff : -0.000123\n"
     ]
    }
   ],
   "source": [
    "import time\n",
    "x = 0.12\n",
    "y = -0.11\n",
    "z = 0.13\n",
    "\n",
    "for i in range(20):\n",
    "    poppy.l_arm_chain.goto((x, y, z), 0.5, wait=True)\n",
    "    effector = poppy.l_arm_chain.end_effector\n",
    "    print(\"X diff : %.6f\" % (x-effector[0]) + \", Y diff : %.6f\" % (y-effector[1]) + \", Z diff : %.6f\" % (z-effector[2]))\n",
    "    time.sleep(0.5)"
   ]
  },
  {
   "cell_type": "code",
   "execution_count": null,
   "metadata": {},
   "outputs": [],
   "source": [
    "import time\n",
    "for i in range(5):\n",
    "    time.sleep(1)\n",
    "    goto()\n",
    "    time.sleep(3)\n",
    "    goto2()\n",
    "    time.sleep(3)\n",
    "    print(\"-----------------------\")\n",
    "for i in range(5):\n",
    "    time.sleep(1)\n",
    "    poppy.r_arm_chain.goto((-0.16, -0.10, 0.10), 0.5, wait=True)\n",
    "    time.sleep(3)\n",
    "    poppy.r_arm_chain.goto((-0.10, -0.10, 0.10), 0.5, wait=True)\n",
    "    time.sleep(3)\n",
    "    \n",
    "\n",
    "    print(\"-----------------------\")"
   ]
  },
  {
   "cell_type": "code",
   "execution_count": null,
   "metadata": {},
   "outputs": [],
   "source": [
    "io = poppy._controllers[0].io\n",
    "\n",
    "name = 'cube'\n",
    "position = poppy.l_arm_chain.end_effector\n",
    "sizes = [0.03,0.05] # in meters\n",
    "mass = 0.5 # in kg\n",
    "io.add_sphere('ball1', sizes, position, mass)"
   ]
  },
  {
   "cell_type": "code",
   "execution_count": null,
   "metadata": {},
   "outputs": [],
   "source": [
    "from ipywidgets import interact, FloatSlider\n",
    "\n",
    "c = poppy.l_arm_chain\n",
    "\n",
    "x, y, z = c.end_effector\n",
    "size = 0.3\n",
    "\n",
    "def goto(x, y, z):\n",
    "    c.goto((x, y, z), .1)\n",
    "    getEffector()\n",
    "    getDegrees()\n",
    "    \n",
    "interact(goto, \n",
    "         x=FloatSlider(min=x-size, max=x+size, value=x, step=0.01), \n",
    "         y=FloatSlider(min=y-size, max=y+size, value=y, step=0.01), \n",
    "         z=FloatSlider(min=z-size, max=z+size, value=z, step=0.01))"
   ]
  },
  {
   "cell_type": "code",
   "execution_count": null,
   "metadata": {},
   "outputs": [],
   "source": [
    "r = .13\n",
    "x0, y0, z0 = (0.2, -0.2, 0.2)\n",
    "\n",
    "poppy.l_arm_chain.goto((x0, y0, z0), 1., wait=True)\n",
    "\n",
    "\n",
    "for alpha in np.arange(0, 4*np.pi, .08):\n",
    "    x = r * np.cos(alpha) + x0\n",
    "    z = r * np.sin(alpha) + z0\n",
    "    poppy.l_arm_chain.goto((x, y0, z), 0.03, wait=True)\n",
    "    time.sleep(0.5)\n",
    "    getEffector()\n",
    "    time.sleep(0.5)"
   ]
  },
  {
   "cell_type": "markdown",
   "metadata": {},
   "source": [
    "# Dibujar gato"
   ]
  },
  {
   "cell_type": "code",
   "execution_count": null,
   "metadata": {},
   "outputs": [],
   "source": [
    "def drawWithPoppy(planeY, withoutDraw):\n",
    "    axisY = planeY\n",
    "    for stroke in stroke_rescale:\n",
    "        if stroke[2] == 0:\n",
    "            axisY = planeY\n",
    "        else:\n",
    "            axisY = withoutDraw\n",
    "        print(\"X = %.3f\" % stroke[0] + \", Y = %.3f\" % axisY + \", Z = %.3f\" % stroke[1])\n",
    "        poppy.l_arm_chain.goto((stroke[0], axisY, stroke[1]), 0.5, wait=True)\n",
    "        \n",
    "drawWithPoppy(-0.20, -0.17)"
   ]
  },
  {
   "cell_type": "code",
   "execution_count": null,
   "metadata": {},
   "outputs": [],
   "source": []
  }
 ],
 "metadata": {
  "kernelspec": {
   "display_name": "Python 2",
   "language": "python",
   "name": "python2"
  },
  "language_info": {
   "codemirror_mode": {
    "name": "ipython",
    "version": 2
   },
   "file_extension": ".py",
   "mimetype": "text/x-python",
   "name": "python",
   "nbconvert_exporter": "python",
   "pygments_lexer": "ipython2",
   "version": "2.7.16"
  }
 },
 "nbformat": 4,
 "nbformat_minor": 2
}
